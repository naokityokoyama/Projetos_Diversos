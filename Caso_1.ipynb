{
  "nbformat": 4,
  "nbformat_minor": 0,
  "metadata": {
    "colab": {
      "name": "Caso 1.ipynb",
      "provenance": [],
      "collapsed_sections": [],
      "authorship_tag": "ABX9TyP8s9QfT1NLCW1RhmcrtyO0",
      "include_colab_link": true
    },
    "kernelspec": {
      "name": "python3",
      "display_name": "Python 3"
    }
  },
  "cells": [
    {
      "cell_type": "markdown",
      "metadata": {
        "id": "view-in-github",
        "colab_type": "text"
      },
      "source": [
        "<a href=\"https://colab.research.google.com/github/naokityokoyama/Projetos_Diversos/blob/master/Caso_1.ipynb\" target=\"_parent\"><img src=\"https://colab.research.google.com/assets/colab-badge.svg\" alt=\"Open In Colab\"/></a>"
      ]
    },
    {
      "cell_type": "markdown",
      "metadata": {
        "id": "y750OVOBgdgr"
      },
      "source": [
        "O termo Produtividade mede a eficiência com que uma econômia usa seus recursos para produir bens e serviços. "
      ]
    },
    {
      "cell_type": "code",
      "metadata": {
        "id": "81dj-ad0Khil"
      },
      "source": [
        "import pandas as pd\r\n",
        "import numpy as np\r\n",
        "import matplotlib.pyplot as plt\r\n",
        "import seaborn as sns\r\n",
        "import plotly.offline as py\r\n",
        "import plotly.graph_objs as go\r\n",
        "from fbprophet import Prophet"
      ],
      "execution_count": 1,
      "outputs": []
    },
    {
      "cell_type": "code",
      "metadata": {
        "id": "lBUxZyyAKjdl"
      },
      "source": [
        "df= pd.read_csv('https://raw.githubusercontent.com/naokityokoyama/Projeto_extra/main/TFP.csv')"
      ],
      "execution_count": 143,
      "outputs": []
    },
    {
      "cell_type": "code",
      "metadata": {
        "id": "wm0m8tEaLS-R"
      },
      "source": [
        "USA = df[df['isocode']=='USA']\r\n",
        "MEX = df[df['isocode']=='MEX']\r\n",
        "CAN = df[df['isocode']=='CAN']"
      ],
      "execution_count": 144,
      "outputs": []
    },
    {
      "cell_type": "code",
      "metadata": {
        "colab": {
          "base_uri": "https://localhost:8080/",
          "height": 204
        },
        "id": "PvCPEL-0K_et",
        "outputId": "5a9027c8-4011-423a-8333-316fcc34b748"
      },
      "source": [
        "df.head()"
      ],
      "execution_count": 13,
      "outputs": [
        {
          "output_type": "execute_result",
          "data": {
            "text/html": [
              "<div>\n",
              "<style scoped>\n",
              "    .dataframe tbody tr th:only-of-type {\n",
              "        vertical-align: middle;\n",
              "    }\n",
              "\n",
              "    .dataframe tbody tr th {\n",
              "        vertical-align: top;\n",
              "    }\n",
              "\n",
              "    .dataframe thead th {\n",
              "        text-align: right;\n",
              "    }\n",
              "</style>\n",
              "<table border=\"1\" class=\"dataframe\">\n",
              "  <thead>\n",
              "    <tr style=\"text-align: right;\">\n",
              "      <th></th>\n",
              "      <th>isocode</th>\n",
              "      <th>year</th>\n",
              "      <th>rtfpna</th>\n",
              "    </tr>\n",
              "  </thead>\n",
              "  <tbody>\n",
              "    <tr>\n",
              "      <th>0</th>\n",
              "      <td>USA</td>\n",
              "      <td>1950</td>\n",
              "      <td>0.617148</td>\n",
              "    </tr>\n",
              "    <tr>\n",
              "      <th>1</th>\n",
              "      <td>USA</td>\n",
              "      <td>1951</td>\n",
              "      <td>0.629588</td>\n",
              "    </tr>\n",
              "    <tr>\n",
              "      <th>2</th>\n",
              "      <td>USA</td>\n",
              "      <td>1952</td>\n",
              "      <td>0.638451</td>\n",
              "    </tr>\n",
              "    <tr>\n",
              "      <th>3</th>\n",
              "      <td>USA</td>\n",
              "      <td>1953</td>\n",
              "      <td>0.651858</td>\n",
              "    </tr>\n",
              "    <tr>\n",
              "      <th>4</th>\n",
              "      <td>USA</td>\n",
              "      <td>1954</td>\n",
              "      <td>0.646179</td>\n",
              "    </tr>\n",
              "  </tbody>\n",
              "</table>\n",
              "</div>"
            ],
            "text/plain": [
              "  isocode  year    rtfpna\n",
              "0     USA  1950  0.617148\n",
              "1     USA  1951  0.629588\n",
              "2     USA  1952  0.638451\n",
              "3     USA  1953  0.651858\n",
              "4     USA  1954  0.646179"
            ]
          },
          "metadata": {
            "tags": []
          },
          "execution_count": 13
        }
      ]
    },
    {
      "cell_type": "markdown",
      "metadata": {
        "id": "AfOFijhDH_hW"
      },
      "source": [
        "dataset com 183 instancias e com todas as features completas (183)"
      ]
    },
    {
      "cell_type": "code",
      "metadata": {
        "colab": {
          "base_uri": "https://localhost:8080/"
        },
        "id": "HnAlmk_CLJwa",
        "outputId": "483400eb-d0ec-4267-ac2d-53119edac0b0"
      },
      "source": [
        "#confirmado nenhum dado nulo\r\n",
        "df.isnull().sum()"
      ],
      "execution_count": 14,
      "outputs": [
        {
          "output_type": "execute_result",
          "data": {
            "text/plain": [
              "isocode    0\n",
              "year       0\n",
              "rtfpna     0\n",
              "dtype: int64"
            ]
          },
          "metadata": {
            "tags": []
          },
          "execution_count": 14
        }
      ]
    },
    {
      "cell_type": "code",
      "metadata": {
        "colab": {
          "base_uri": "https://localhost:8080/",
          "height": 542
        },
        "id": "kcdnUXUHtIXy",
        "outputId": "a23cf299-fd86-4db2-b2b5-17ba2776a89a"
      },
      "source": [
        "# rtfpna em relação ao tempo\r\n",
        "trace1 = go.Scatter(x = USA['year'],\r\n",
        "                    y = USA['rtfpna'],\r\n",
        "                    mode = 'markers+lines',\r\n",
        "                    name = 'USA')\r\n",
        "# Gráfico de apenas linhas\r\n",
        "trace2 = go.Scatter(x = CAN['year'],\r\n",
        "                    y = CAN['rtfpna'],\r\n",
        "                    mode = 'markers+lines',\r\n",
        "                    name = 'CANADA')\r\n",
        "# Criando gráfico com marcadores e linhas\r\n",
        "trace3 = go.Scatter(x = MEX['year'],\r\n",
        "                    y = MEX['rtfpna'],\r\n",
        "                    mode = 'markers+lines',\r\n",
        "                    name = 'MEXICO')\r\n",
        "\r\n",
        "layout = go.Layout(title = 'Evolução Produtiva')\r\n",
        "data = [trace1, trace2, trace3]\r\n",
        "\r\n",
        "fig = go.Figure(data=data, layout=layout)\r\n",
        "py.iplot(fig)"
      ],
      "execution_count": 137,
      "outputs": [
        {
          "output_type": "display_data",
          "data": {
            "text/html": [
              "<html>\n",
              "<head><meta charset=\"utf-8\" /></head>\n",
              "<body>\n",
              "    <div>\n",
              "            <script src=\"https://cdnjs.cloudflare.com/ajax/libs/mathjax/2.7.5/MathJax.js?config=TeX-AMS-MML_SVG\"></script><script type=\"text/javascript\">if (window.MathJax) {MathJax.Hub.Config({SVG: {font: \"STIX-Web\"}});}</script>\n",
              "                <script type=\"text/javascript\">window.PlotlyConfig = {MathJaxConfig: 'local'};</script>\n",
              "        <script src=\"https://cdn.plot.ly/plotly-latest.min.js\"></script>    \n",
              "            <div id=\"71e61ce0-1d70-48b4-9dfe-1b39790b9a73\" class=\"plotly-graph-div\" style=\"height:525px; width:100%;\"></div>\n",
              "            <script type=\"text/javascript\">\n",
              "                \n",
              "                    window.PLOTLYENV=window.PLOTLYENV || {};\n",
              "                    \n",
              "                if (document.getElementById(\"71e61ce0-1d70-48b4-9dfe-1b39790b9a73\")) {\n",
              "                    Plotly.newPlot(\n",
              "                        '71e61ce0-1d70-48b4-9dfe-1b39790b9a73',\n",
              "                        [{\"mode\": \"markers+lines\", \"name\": \"USA\", \"type\": \"scatter\", \"x\": [1950, 1951, 1952, 1953, 1954, 1955, 1956, 1957, 1958, 1959, 1960, 1961, 1962, 1963, 1964, 1965, 1966, 1967, 1968, 1969, 1970, 1971, 1972, 1973, 1974, 1975, 1976, 1977, 1978, 1979, 1980, 1981, 1982, 1983, 1984, 1985, 1986, 1987, 1988, 1989, 1990, 1991, 1992, 1993, 1994, 1995, 1996, 1997, 1998, 1999, 2000, 2001, 2002, 2003, 2004, 2005, 2006, 2007, 2008, 2009, 2010, 2011], \"y\": [0.6171478629112244, 0.6295884251594543, 0.638451337814331, 0.6518582105636597, 0.6461794376373291, 0.6687729358673096, 0.6609998941421509, 0.6621648073196411, 0.6548125147819519, 0.6806795001029968, 0.6781228184700012, 0.6806922554969788, 0.7000679969787598, 0.709036111831665, 0.7232545614242554, 0.7401488423347473, 0.7561739087104797, 0.7483883500099182, 0.7585538625717163, 0.7544527053833008, 0.7398825287818909, 0.7519034147262573, 0.7642947435379028, 0.7768552899360657, 0.7502252459526062, 0.7439113259315491, 0.7571526169776917, 0.7623404264450073, 0.7705070972442627, 0.7677993774414062, 0.7530056834220886, 0.7591724991798401, 0.7426289916038513, 0.7630539536476135, 0.7880086898803711, 0.8002187609672546, 0.8062083125114441, 0.8089371323585509, 0.8211951851844788, 0.8304957151412964, 0.8322657942771912, 0.8280668854713441, 0.8461574912071228, 0.8543828725814819, 0.8667795658111572, 0.869562566280365, 0.8842038512229919, 0.9001898765563965, 0.9189171791076659, 0.9413750767707824, 0.9594316482543944, 0.9578253030776978, 0.9669165611267091, 0.975909948348999, 0.9920576810836792, 1.0, 1.0040003061294556, 1.006595253944397, 0.9984992742538452, 0.9867377877235411, 1.00946307182312, 1.020391821861267]}, {\"mode\": \"markers+lines\", \"name\": \"CANADA\", \"type\": \"scatter\", \"x\": [1950, 1951, 1952, 1953, 1954, 1955, 1956, 1957, 1958, 1959, 1960, 1961, 1962, 1963, 1964, 1965, 1966, 1967, 1968, 1969, 1970, 1971, 1972, 1973, 1974, 1975, 1976, 1977, 1978, 1979, 1980, 1981, 1982, 1983, 1984, 1985, 1986, 1987, 1988, 1989, 1990, 1991, 1992, 1993, 1994, 1995, 1996, 1997, 1998, 1999, 2000, 2001, 2002, 2003, 2004, 2005, 2006, 2007, 2008, 2009, 2010, 2011], \"y\": [0.8433347940444946, 0.855122983455658, 0.8964892625808716, 0.9106582403182985, 0.875177800655365, 0.9276822209358216, 0.97986900806427, 0.9697281122207642, 0.9599283933639526, 0.9742049574851991, 0.931278645992279, 0.9287078976631165, 0.9567107558250428, 0.9730290174484252, 0.9932155013084412, 1.009907603263855, 1.0163369178771973, 1.0032632350921629, 1.0223480463027954, 1.03248131275177, 1.0338034629821775, 1.0374722480773926, 1.0507104396820068, 1.065343141555786, 1.0532701015472412, 1.0384669303894043, 1.0364397764205933, 1.0381832122802734, 1.035278558731079, 1.0218113660812378, 1.003521203994751, 1.0036829710006714, 0.9832258820533752, 0.993445098400116, 1.0219427347183228, 1.0362533330917358, 1.0207436084747314, 1.0235457420349119, 1.0308436155319214, 1.022287368774414, 1.0007789134979248, 0.9740902185440063, 0.9764385819435121, 0.9845812916755676, 1.0047389268875122, 1.0084209442138672, 1.0057704448699951, 1.0173662900924685, 1.0255228281021118, 1.0469565391540527, 1.0661041736602783, 1.05035400390625, 1.0394744873046875, 1.0165166854858398, 1.008692502975464, 1.0, 0.99513179063797, 0.9814327955245972, 0.9583569765090942, 0.9264822006225586, 0.9325665831565856, 0.929405391216278]}, {\"mode\": \"markers+lines\", \"name\": \"MEXICO\", \"type\": \"scatter\", \"x\": [1950, 1951, 1952, 1953, 1954, 1955, 1956, 1957, 1958, 1959, 1960, 1961, 1962, 1963, 1964, 1965, 1966, 1967, 1968, 1969, 1970, 1971, 1972, 1973, 1974, 1975, 1976, 1977, 1978, 1979, 1980, 1981, 1982, 1983, 1984, 1985, 1986, 1987, 1988, 1989, 1990, 1991, 1992, 1993, 1994, 1995, 1996, 1997, 1998, 1999, 2000, 2001, 2002, 2003, 2004, 2005, 2006, 2007, 2008, 2009, 2010, 2011], \"y\": [0.7981593012809753, 0.860931396484375, 0.87696772813797, 0.8552044630050659, 0.9291679263114928, 0.9818485975265504, 1.0271602869033811, 1.0740375518798828, 1.0915502309799194, 1.085563898086548, 1.1482443809509275, 1.129815697669983, 1.1326359510421753, 1.1914269924163818, 1.2908802032470703, 1.2937291860580444, 1.30258047580719, 1.306867003440857, 1.3471068143844604, 1.331274151802063, 1.3517636060714722, 1.332947015762329, 1.3607896566390991, 1.3837183713912964, 1.3739711046218872, 1.3531204462051392, 1.3270817995071411, 1.3015443086624146, 1.325737714767456, 1.346103310585022, 1.3495864868164062, 1.3662800788879397, 1.2887375354766846, 1.2136229276657104, 1.2130910158157349, 1.1946879625320437, 1.1141175031661987, 1.099750518798828, 1.0755729675292969, 1.0845842361450195, 1.0988974571228027, 1.1010850667953491, 1.0961675643920898, 1.0781174898147583, 1.0766171216964722, 1.0050045251846311, 1.023274302482605, 1.0445234775543213, 1.0514060258865356, 1.0501482486724854, 1.0727753639221191, 1.0367354154586792, 1.0050327777862549, 0.9912721514701844, 0.9949626922607422, 1.0, 1.01175057888031, 1.0136733055114746, 0.9915478229522704, 0.9158785343170166, 0.941603660583496, 0.955765664577484]}],\n",
              "                        {\"template\": {\"data\": {\"bar\": [{\"error_x\": {\"color\": \"#2a3f5f\"}, \"error_y\": {\"color\": \"#2a3f5f\"}, \"marker\": {\"line\": {\"color\": \"#E5ECF6\", \"width\": 0.5}}, \"type\": \"bar\"}], \"barpolar\": [{\"marker\": {\"line\": {\"color\": \"#E5ECF6\", \"width\": 0.5}}, \"type\": \"barpolar\"}], \"carpet\": [{\"aaxis\": {\"endlinecolor\": \"#2a3f5f\", \"gridcolor\": \"white\", \"linecolor\": \"white\", \"minorgridcolor\": \"white\", \"startlinecolor\": \"#2a3f5f\"}, \"baxis\": {\"endlinecolor\": \"#2a3f5f\", \"gridcolor\": \"white\", \"linecolor\": \"white\", \"minorgridcolor\": \"white\", \"startlinecolor\": \"#2a3f5f\"}, \"type\": \"carpet\"}], \"choropleth\": [{\"colorbar\": {\"outlinewidth\": 0, \"ticks\": \"\"}, \"type\": \"choropleth\"}], \"contour\": [{\"colorbar\": {\"outlinewidth\": 0, \"ticks\": \"\"}, \"colorscale\": [[0.0, \"#0d0887\"], [0.1111111111111111, \"#46039f\"], [0.2222222222222222, \"#7201a8\"], [0.3333333333333333, \"#9c179e\"], [0.4444444444444444, \"#bd3786\"], [0.5555555555555556, \"#d8576b\"], [0.6666666666666666, \"#ed7953\"], [0.7777777777777778, \"#fb9f3a\"], [0.8888888888888888, \"#fdca26\"], [1.0, \"#f0f921\"]], \"type\": \"contour\"}], \"contourcarpet\": [{\"colorbar\": {\"outlinewidth\": 0, \"ticks\": \"\"}, \"type\": \"contourcarpet\"}], \"heatmap\": [{\"colorbar\": {\"outlinewidth\": 0, \"ticks\": \"\"}, \"colorscale\": [[0.0, \"#0d0887\"], [0.1111111111111111, \"#46039f\"], [0.2222222222222222, \"#7201a8\"], [0.3333333333333333, \"#9c179e\"], [0.4444444444444444, \"#bd3786\"], [0.5555555555555556, \"#d8576b\"], [0.6666666666666666, \"#ed7953\"], [0.7777777777777778, \"#fb9f3a\"], [0.8888888888888888, \"#fdca26\"], [1.0, \"#f0f921\"]], \"type\": \"heatmap\"}], \"heatmapgl\": [{\"colorbar\": {\"outlinewidth\": 0, \"ticks\": \"\"}, \"colorscale\": [[0.0, \"#0d0887\"], [0.1111111111111111, \"#46039f\"], [0.2222222222222222, \"#7201a8\"], [0.3333333333333333, \"#9c179e\"], [0.4444444444444444, \"#bd3786\"], [0.5555555555555556, \"#d8576b\"], [0.6666666666666666, \"#ed7953\"], [0.7777777777777778, \"#fb9f3a\"], [0.8888888888888888, \"#fdca26\"], [1.0, \"#f0f921\"]], \"type\": \"heatmapgl\"}], \"histogram\": [{\"marker\": {\"colorbar\": {\"outlinewidth\": 0, \"ticks\": \"\"}}, \"type\": \"histogram\"}], \"histogram2d\": [{\"colorbar\": {\"outlinewidth\": 0, \"ticks\": \"\"}, \"colorscale\": [[0.0, \"#0d0887\"], [0.1111111111111111, \"#46039f\"], [0.2222222222222222, \"#7201a8\"], [0.3333333333333333, \"#9c179e\"], [0.4444444444444444, \"#bd3786\"], [0.5555555555555556, \"#d8576b\"], [0.6666666666666666, \"#ed7953\"], [0.7777777777777778, \"#fb9f3a\"], [0.8888888888888888, \"#fdca26\"], [1.0, \"#f0f921\"]], \"type\": \"histogram2d\"}], \"histogram2dcontour\": [{\"colorbar\": {\"outlinewidth\": 0, \"ticks\": \"\"}, \"colorscale\": [[0.0, \"#0d0887\"], [0.1111111111111111, \"#46039f\"], [0.2222222222222222, \"#7201a8\"], [0.3333333333333333, \"#9c179e\"], [0.4444444444444444, \"#bd3786\"], [0.5555555555555556, \"#d8576b\"], [0.6666666666666666, \"#ed7953\"], [0.7777777777777778, \"#fb9f3a\"], [0.8888888888888888, \"#fdca26\"], [1.0, \"#f0f921\"]], \"type\": \"histogram2dcontour\"}], \"mesh3d\": [{\"colorbar\": {\"outlinewidth\": 0, \"ticks\": \"\"}, \"type\": \"mesh3d\"}], \"parcoords\": [{\"line\": {\"colorbar\": {\"outlinewidth\": 0, \"ticks\": \"\"}}, \"type\": \"parcoords\"}], \"pie\": [{\"automargin\": true, \"type\": \"pie\"}], \"scatter\": [{\"marker\": {\"colorbar\": {\"outlinewidth\": 0, \"ticks\": \"\"}}, \"type\": \"scatter\"}], \"scatter3d\": [{\"line\": {\"colorbar\": {\"outlinewidth\": 0, \"ticks\": \"\"}}, \"marker\": {\"colorbar\": {\"outlinewidth\": 0, \"ticks\": \"\"}}, \"type\": \"scatter3d\"}], \"scattercarpet\": [{\"marker\": {\"colorbar\": {\"outlinewidth\": 0, \"ticks\": \"\"}}, \"type\": \"scattercarpet\"}], \"scattergeo\": [{\"marker\": {\"colorbar\": {\"outlinewidth\": 0, \"ticks\": \"\"}}, \"type\": \"scattergeo\"}], \"scattergl\": [{\"marker\": {\"colorbar\": {\"outlinewidth\": 0, \"ticks\": \"\"}}, \"type\": \"scattergl\"}], \"scattermapbox\": [{\"marker\": {\"colorbar\": {\"outlinewidth\": 0, \"ticks\": \"\"}}, \"type\": \"scattermapbox\"}], \"scatterpolar\": [{\"marker\": {\"colorbar\": {\"outlinewidth\": 0, \"ticks\": \"\"}}, \"type\": \"scatterpolar\"}], \"scatterpolargl\": [{\"marker\": {\"colorbar\": {\"outlinewidth\": 0, \"ticks\": \"\"}}, \"type\": \"scatterpolargl\"}], \"scatterternary\": [{\"marker\": {\"colorbar\": {\"outlinewidth\": 0, \"ticks\": \"\"}}, \"type\": \"scatterternary\"}], \"surface\": [{\"colorbar\": {\"outlinewidth\": 0, \"ticks\": \"\"}, \"colorscale\": [[0.0, \"#0d0887\"], [0.1111111111111111, \"#46039f\"], [0.2222222222222222, \"#7201a8\"], [0.3333333333333333, \"#9c179e\"], [0.4444444444444444, \"#bd3786\"], [0.5555555555555556, \"#d8576b\"], [0.6666666666666666, \"#ed7953\"], [0.7777777777777778, \"#fb9f3a\"], [0.8888888888888888, \"#fdca26\"], [1.0, \"#f0f921\"]], \"type\": \"surface\"}], \"table\": [{\"cells\": {\"fill\": {\"color\": \"#EBF0F8\"}, \"line\": {\"color\": \"white\"}}, \"header\": {\"fill\": {\"color\": \"#C8D4E3\"}, \"line\": {\"color\": \"white\"}}, \"type\": \"table\"}]}, \"layout\": {\"annotationdefaults\": {\"arrowcolor\": \"#2a3f5f\", \"arrowhead\": 0, \"arrowwidth\": 1}, \"coloraxis\": {\"colorbar\": {\"outlinewidth\": 0, \"ticks\": \"\"}}, \"colorscale\": {\"diverging\": [[0, \"#8e0152\"], [0.1, \"#c51b7d\"], [0.2, \"#de77ae\"], [0.3, \"#f1b6da\"], [0.4, \"#fde0ef\"], [0.5, \"#f7f7f7\"], [0.6, \"#e6f5d0\"], [0.7, \"#b8e186\"], [0.8, \"#7fbc41\"], [0.9, \"#4d9221\"], [1, \"#276419\"]], \"sequential\": [[0.0, \"#0d0887\"], [0.1111111111111111, \"#46039f\"], [0.2222222222222222, \"#7201a8\"], [0.3333333333333333, \"#9c179e\"], [0.4444444444444444, \"#bd3786\"], [0.5555555555555556, \"#d8576b\"], [0.6666666666666666, \"#ed7953\"], [0.7777777777777778, \"#fb9f3a\"], [0.8888888888888888, \"#fdca26\"], [1.0, \"#f0f921\"]], \"sequentialminus\": [[0.0, \"#0d0887\"], [0.1111111111111111, \"#46039f\"], [0.2222222222222222, \"#7201a8\"], [0.3333333333333333, \"#9c179e\"], [0.4444444444444444, \"#bd3786\"], [0.5555555555555556, \"#d8576b\"], [0.6666666666666666, \"#ed7953\"], [0.7777777777777778, \"#fb9f3a\"], [0.8888888888888888, \"#fdca26\"], [1.0, \"#f0f921\"]]}, \"colorway\": [\"#636efa\", \"#EF553B\", \"#00cc96\", \"#ab63fa\", \"#FFA15A\", \"#19d3f3\", \"#FF6692\", \"#B6E880\", \"#FF97FF\", \"#FECB52\"], \"font\": {\"color\": \"#2a3f5f\"}, \"geo\": {\"bgcolor\": \"white\", \"lakecolor\": \"white\", \"landcolor\": \"#E5ECF6\", \"showlakes\": true, \"showland\": true, \"subunitcolor\": \"white\"}, \"hoverlabel\": {\"align\": \"left\"}, \"hovermode\": \"closest\", \"mapbox\": {\"style\": \"light\"}, \"paper_bgcolor\": \"white\", \"plot_bgcolor\": \"#E5ECF6\", \"polar\": {\"angularaxis\": {\"gridcolor\": \"white\", \"linecolor\": \"white\", \"ticks\": \"\"}, \"bgcolor\": \"#E5ECF6\", \"radialaxis\": {\"gridcolor\": \"white\", \"linecolor\": \"white\", \"ticks\": \"\"}}, \"scene\": {\"xaxis\": {\"backgroundcolor\": \"#E5ECF6\", \"gridcolor\": \"white\", \"gridwidth\": 2, \"linecolor\": \"white\", \"showbackground\": true, \"ticks\": \"\", \"zerolinecolor\": \"white\"}, \"yaxis\": {\"backgroundcolor\": \"#E5ECF6\", \"gridcolor\": \"white\", \"gridwidth\": 2, \"linecolor\": \"white\", \"showbackground\": true, \"ticks\": \"\", \"zerolinecolor\": \"white\"}, \"zaxis\": {\"backgroundcolor\": \"#E5ECF6\", \"gridcolor\": \"white\", \"gridwidth\": 2, \"linecolor\": \"white\", \"showbackground\": true, \"ticks\": \"\", \"zerolinecolor\": \"white\"}}, \"shapedefaults\": {\"line\": {\"color\": \"#2a3f5f\"}}, \"ternary\": {\"aaxis\": {\"gridcolor\": \"white\", \"linecolor\": \"white\", \"ticks\": \"\"}, \"baxis\": {\"gridcolor\": \"white\", \"linecolor\": \"white\", \"ticks\": \"\"}, \"bgcolor\": \"#E5ECF6\", \"caxis\": {\"gridcolor\": \"white\", \"linecolor\": \"white\", \"ticks\": \"\"}}, \"title\": {\"x\": 0.05}, \"xaxis\": {\"automargin\": true, \"gridcolor\": \"white\", \"linecolor\": \"white\", \"ticks\": \"\", \"title\": {\"standoff\": 15}, \"zerolinecolor\": \"white\", \"zerolinewidth\": 2}, \"yaxis\": {\"automargin\": true, \"gridcolor\": \"white\", \"linecolor\": \"white\", \"ticks\": \"\", \"title\": {\"standoff\": 15}, \"zerolinecolor\": \"white\", \"zerolinewidth\": 2}}}, \"title\": {\"text\": \"Evolu\\u00e7\\u00e3o Produtiva\"}},\n",
              "                        {\"responsive\": true}\n",
              "                    ).then(function(){\n",
              "                            \n",
              "var gd = document.getElementById('71e61ce0-1d70-48b4-9dfe-1b39790b9a73');\n",
              "var x = new MutationObserver(function (mutations, observer) {{\n",
              "        var display = window.getComputedStyle(gd).display;\n",
              "        if (!display || display === 'none') {{\n",
              "            console.log([gd, 'removed!']);\n",
              "            Plotly.purge(gd);\n",
              "            observer.disconnect();\n",
              "        }}\n",
              "}});\n",
              "\n",
              "// Listen for the removal of the full notebook cells\n",
              "var notebookContainer = gd.closest('#notebook-container');\n",
              "if (notebookContainer) {{\n",
              "    x.observe(notebookContainer, {childList: true});\n",
              "}}\n",
              "\n",
              "// Listen for the clearing of the current output cell\n",
              "var outputEl = gd.closest('.output');\n",
              "if (outputEl) {{\n",
              "    x.observe(outputEl, {childList: true});\n",
              "}}\n",
              "\n",
              "                        })\n",
              "                };\n",
              "                \n",
              "            </script>\n",
              "        </div>\n",
              "</body>\n",
              "</html>"
            ]
          },
          "metadata": {
            "tags": []
          }
        }
      ]
    },
    {
      "cell_type": "markdown",
      "metadata": {
        "id": "jcpKOTk2ZNs9"
      },
      "source": [
        "O Mexico teve um aumento expressivo na evolução produtiva entre a década de 60 e final da decada de 70 e em seguinda um declínio bem considerado até inicio do ano 2010 que parece ter uma tendência a subir.\r\n",
        "\r\n",
        "O Canada teve um pico de crescimento no meio da década de 50 e em seguinda uma leve queda, depois seguiu em crescimento até o ano 2000 onde se iniciou uma queda até os dias de hoje, parece está se estabilizando a essa queda no fim da serie. \r\n",
        "\r\n",
        "O EUA teve um crescimento a partir dos anos 50 em constante evolução (sem nenhum pico expressivo em toda a serie) tanto para queda quanto para subida."
      ]
    },
    {
      "cell_type": "code",
      "metadata": {
        "colab": {
          "base_uri": "https://localhost:8080/"
        },
        "id": "ebmQCRpIYWWu",
        "outputId": "f5fc3432-2125-4cdd-9df9-e473b483ccbb"
      },
      "source": [
        "df.groupby(['isocode']).size()"
      ],
      "execution_count": 146,
      "outputs": [
        {
          "output_type": "execute_result",
          "data": {
            "text/plain": [
              "isocode\n",
              "CAN    62\n",
              "MEX    62\n",
              "USA    62\n",
              "dtype: int64"
            ]
          },
          "metadata": {
            "tags": []
          },
          "execution_count": 146
        }
      ]
    },
    {
      "cell_type": "markdown",
      "metadata": {
        "id": "aYxNfwVKIKNg"
      },
      "source": [
        "dataset com anos completos para os 3 paises"
      ]
    },
    {
      "cell_type": "code",
      "metadata": {
        "colab": {
          "base_uri": "https://localhost:8080/",
          "height": 545
        },
        "id": "224ws8d8KvOv",
        "outputId": "abbf4705-6e15-4e2a-cb6f-4a4a5e105268"
      },
      "source": [
        "#pequeno resumo de estatistica descritiva dos dados\r\n",
        "df.groupby(['isocode']).describe().T"
      ],
      "execution_count": 148,
      "outputs": [
        {
          "output_type": "execute_result",
          "data": {
            "text/html": [
              "<div>\n",
              "<style scoped>\n",
              "    .dataframe tbody tr th:only-of-type {\n",
              "        vertical-align: middle;\n",
              "    }\n",
              "\n",
              "    .dataframe tbody tr th {\n",
              "        vertical-align: top;\n",
              "    }\n",
              "\n",
              "    .dataframe thead th {\n",
              "        text-align: right;\n",
              "    }\n",
              "</style>\n",
              "<table border=\"1\" class=\"dataframe\">\n",
              "  <thead>\n",
              "    <tr style=\"text-align: right;\">\n",
              "      <th></th>\n",
              "      <th>isocode</th>\n",
              "      <th>CAN</th>\n",
              "      <th>MEX</th>\n",
              "      <th>USA</th>\n",
              "    </tr>\n",
              "  </thead>\n",
              "  <tbody>\n",
              "    <tr>\n",
              "      <th rowspan=\"8\" valign=\"top\">year</th>\n",
              "      <th>count</th>\n",
              "      <td>62.000000</td>\n",
              "      <td>62.000000</td>\n",
              "      <td>62.000000</td>\n",
              "    </tr>\n",
              "    <tr>\n",
              "      <th>mean</th>\n",
              "      <td>1980.500000</td>\n",
              "      <td>1980.500000</td>\n",
              "      <td>1980.500000</td>\n",
              "    </tr>\n",
              "    <tr>\n",
              "      <th>std</th>\n",
              "      <td>18.041619</td>\n",
              "      <td>18.041619</td>\n",
              "      <td>18.041619</td>\n",
              "    </tr>\n",
              "    <tr>\n",
              "      <th>min</th>\n",
              "      <td>1950.000000</td>\n",
              "      <td>1950.000000</td>\n",
              "      <td>1950.000000</td>\n",
              "    </tr>\n",
              "    <tr>\n",
              "      <th>25%</th>\n",
              "      <td>1965.250000</td>\n",
              "      <td>1965.250000</td>\n",
              "      <td>1965.250000</td>\n",
              "    </tr>\n",
              "    <tr>\n",
              "      <th>50%</th>\n",
              "      <td>1980.500000</td>\n",
              "      <td>1980.500000</td>\n",
              "      <td>1980.500000</td>\n",
              "    </tr>\n",
              "    <tr>\n",
              "      <th>75%</th>\n",
              "      <td>1995.750000</td>\n",
              "      <td>1995.750000</td>\n",
              "      <td>1995.750000</td>\n",
              "    </tr>\n",
              "    <tr>\n",
              "      <th>max</th>\n",
              "      <td>2011.000000</td>\n",
              "      <td>2011.000000</td>\n",
              "      <td>2011.000000</td>\n",
              "    </tr>\n",
              "    <tr>\n",
              "      <th rowspan=\"8\" valign=\"top\">rtfpna</th>\n",
              "      <th>count</th>\n",
              "      <td>62.000000</td>\n",
              "      <td>62.000000</td>\n",
              "      <td>62.000000</td>\n",
              "    </tr>\n",
              "    <tr>\n",
              "      <th>mean</th>\n",
              "      <td>0.992886</td>\n",
              "      <td>1.130132</td>\n",
              "      <td>0.803824</td>\n",
              "    </tr>\n",
              "    <tr>\n",
              "      <th>std</th>\n",
              "      <td>0.050126</td>\n",
              "      <td>0.158209</td>\n",
              "      <td>0.116121</td>\n",
              "    </tr>\n",
              "    <tr>\n",
              "      <th>min</th>\n",
              "      <td>0.843335</td>\n",
              "      <td>0.798159</td>\n",
              "      <td>0.617148</td>\n",
              "    </tr>\n",
              "    <tr>\n",
              "      <th>25%</th>\n",
              "      <td>0.973294</td>\n",
              "      <td>1.012231</td>\n",
              "      <td>0.739949</td>\n",
              "    </tr>\n",
              "    <tr>\n",
              "      <th>50%</th>\n",
              "      <td>1.004211</td>\n",
              "      <td>1.093859</td>\n",
              "      <td>0.766047</td>\n",
              "    </tr>\n",
              "    <tr>\n",
              "      <th>75%</th>\n",
              "      <td>1.029513</td>\n",
              "      <td>1.299591</td>\n",
              "      <td>0.880544</td>\n",
              "    </tr>\n",
              "    <tr>\n",
              "      <th>max</th>\n",
              "      <td>1.066104</td>\n",
              "      <td>1.383718</td>\n",
              "      <td>1.020392</td>\n",
              "    </tr>\n",
              "  </tbody>\n",
              "</table>\n",
              "</div>"
            ],
            "text/plain": [
              "isocode               CAN          MEX          USA\n",
              "year   count    62.000000    62.000000    62.000000\n",
              "       mean   1980.500000  1980.500000  1980.500000\n",
              "       std      18.041619    18.041619    18.041619\n",
              "       min    1950.000000  1950.000000  1950.000000\n",
              "       25%    1965.250000  1965.250000  1965.250000\n",
              "       50%    1980.500000  1980.500000  1980.500000\n",
              "       75%    1995.750000  1995.750000  1995.750000\n",
              "       max    2011.000000  2011.000000  2011.000000\n",
              "rtfpna count    62.000000    62.000000    62.000000\n",
              "       mean      0.992886     1.130132     0.803824\n",
              "       std       0.050126     0.158209     0.116121\n",
              "       min       0.843335     0.798159     0.617148\n",
              "       25%       0.973294     1.012231     0.739949\n",
              "       50%       1.004211     1.093859     0.766047\n",
              "       75%       1.029513     1.299591     0.880544\n",
              "       max       1.066104     1.383718     1.020392"
            ]
          },
          "metadata": {
            "tags": []
          },
          "execution_count": 148
        }
      ]
    },
    {
      "cell_type": "markdown",
      "metadata": {
        "id": "nUZYAd-3IWZV"
      },
      "source": [
        "Os dataset foram separados por paises\r\n",
        "\r\n",
        "Modelando com Prophet "
      ]
    },
    {
      "cell_type": "code",
      "metadata": {
        "id": "DHqRyIpFu1Sz"
      },
      "source": [
        "dataset_usa = USA.drop('isocode', axis=1)\r\n",
        "dataset_can = CAN.drop('isocode', axis=1)\r\n",
        "dataset_mex = MEX.drop('isocode', axis=1)"
      ],
      "execution_count": 100,
      "outputs": []
    },
    {
      "cell_type": "code",
      "metadata": {
        "id": "a04ctEuIvDh9"
      },
      "source": [
        "dataset_usa.rename(columns={'year':'ds', 'rtfpna':'y'}, inplace=True)\r\n",
        "dataset_can.rename(columns={'year':'ds', 'rtfpna':'y'}, inplace=True)\r\n",
        "dataset_mex.rename(columns={'year':'ds', 'rtfpna':'y'}, inplace=True)"
      ],
      "execution_count": 101,
      "outputs": []
    },
    {
      "cell_type": "code",
      "metadata": {
        "id": "1UENujwMwbXv"
      },
      "source": [
        "#dataset_usa['DS'] = pd.to_datetime(dataset_usa['DS'],  format='%Y')"
      ],
      "execution_count": null,
      "outputs": []
    },
    {
      "cell_type": "code",
      "metadata": {
        "id": "9sPSTjazxXUO"
      },
      "source": [
        "df.rename(columns={'DS':'ds', 'Y':'y'}, inplace=True)"
      ],
      "execution_count": 167,
      "outputs": []
    },
    {
      "cell_type": "code",
      "metadata": {
        "id": "de_jXUVbxqFn"
      },
      "source": [
        "dataset_usa['ds'] = pd.to_datetime(dataset_usa['ds'], format='%Y')\r\n",
        "dataset_can['ds'] = pd.to_datetime(dataset_can['ds'], format='%Y')\r\n",
        "dataset_mex['ds'] = pd.to_datetime(dataset_mex['ds'], format='%Y')"
      ],
      "execution_count": 109,
      "outputs": []
    },
    {
      "cell_type": "code",
      "metadata": {
        "id": "-sQpM3K4u1cK"
      },
      "source": [
        "#criada uma função pois o Prophet espera sempre um df \r\n",
        "def prophet(dataset):\r\n",
        "  m = Prophet()\r\n",
        "  df = dataset\r\n",
        "  return m.fit (df)"
      ],
      "execution_count": 110,
      "outputs": []
    },
    {
      "cell_type": "code",
      "metadata": {
        "colab": {
          "base_uri": "https://localhost:8080/"
        },
        "id": "X7-yLwX-_Esa",
        "outputId": "553ced6a-38ba-4896-98c8-fbcdfb22f8f0"
      },
      "source": [
        "usa = prophet(dataset_usa)\r\n",
        "can = prophet(dataset_can)\r\n",
        "mex = prophet(dataset_mex)"
      ],
      "execution_count": 111,
      "outputs": [
        {
          "output_type": "stream",
          "text": [
            "INFO:fbprophet:Disabling weekly seasonality. Run prophet with weekly_seasonality=True to override this.\n",
            "INFO:fbprophet:Disabling daily seasonality. Run prophet with daily_seasonality=True to override this.\n",
            "INFO:fbprophet:Disabling weekly seasonality. Run prophet with weekly_seasonality=True to override this.\n",
            "INFO:fbprophet:Disabling daily seasonality. Run prophet with daily_seasonality=True to override this.\n",
            "INFO:fbprophet:Disabling weekly seasonality. Run prophet with weekly_seasonality=True to override this.\n",
            "INFO:fbprophet:Disabling daily seasonality. Run prophet with daily_seasonality=True to override this.\n"
          ],
          "name": "stderr"
        }
      ]
    },
    {
      "cell_type": "code",
      "metadata": {
        "id": "d6xbTgKau1j3"
      },
      "source": [
        "future_usa = usa.make_future_dataframe(periods=10, freq='Y')\r\n",
        "future_can = can.make_future_dataframe(periods=10, freq='Y')\r\n",
        "future_mex = mex.make_future_dataframe(periods=10, freq='Y')"
      ],
      "execution_count": 113,
      "outputs": []
    },
    {
      "cell_type": "code",
      "metadata": {
        "colab": {
          "base_uri": "https://localhost:8080/",
          "height": 165
        },
        "id": "Web3QeNcyBrV",
        "outputId": "e26e306c-8830-4909-deb6-8a79958df3d4"
      },
      "source": [
        "forecast_usa = usa.predict(future_usa)\r\n",
        "forecast_usa[['ds', 'yhat', 'yhat_lower', 'yhat_upper']]\r\n",
        "\r\n",
        "forecast_can = can.predict(future_can)\r\n",
        "forecast_can[['ds', 'yhat', 'yhat_lower', 'yhat_upper']]\r\n",
        "\r\n",
        "forecast_mex = mex.predict(future_mex)\r\n",
        "forecast_mex[['ds', 'yhat', 'yhat_lower', 'yhat_upper']]\r\n",
        "\r\n",
        "forecast_can.head(2)"
      ],
      "execution_count": 138,
      "outputs": [
        {
          "output_type": "execute_result",
          "data": {
            "text/html": [
              "<div>\n",
              "<style scoped>\n",
              "    .dataframe tbody tr th:only-of-type {\n",
              "        vertical-align: middle;\n",
              "    }\n",
              "\n",
              "    .dataframe tbody tr th {\n",
              "        vertical-align: top;\n",
              "    }\n",
              "\n",
              "    .dataframe thead th {\n",
              "        text-align: right;\n",
              "    }\n",
              "</style>\n",
              "<table border=\"1\" class=\"dataframe\">\n",
              "  <thead>\n",
              "    <tr style=\"text-align: right;\">\n",
              "      <th></th>\n",
              "      <th>ds</th>\n",
              "      <th>trend</th>\n",
              "      <th>yhat_lower</th>\n",
              "      <th>yhat_upper</th>\n",
              "      <th>trend_lower</th>\n",
              "      <th>trend_upper</th>\n",
              "      <th>additive_terms</th>\n",
              "      <th>additive_terms_lower</th>\n",
              "      <th>additive_terms_upper</th>\n",
              "      <th>yearly</th>\n",
              "      <th>yearly_lower</th>\n",
              "      <th>yearly_upper</th>\n",
              "      <th>multiplicative_terms</th>\n",
              "      <th>multiplicative_terms_lower</th>\n",
              "      <th>multiplicative_terms_upper</th>\n",
              "      <th>yhat</th>\n",
              "    </tr>\n",
              "  </thead>\n",
              "  <tbody>\n",
              "    <tr>\n",
              "      <th>0</th>\n",
              "      <td>1950-01-01</td>\n",
              "      <td>0.386272</td>\n",
              "      <td>0.847824</td>\n",
              "      <td>0.912538</td>\n",
              "      <td>0.386272</td>\n",
              "      <td>0.386272</td>\n",
              "      <td>0.493607</td>\n",
              "      <td>0.493607</td>\n",
              "      <td>0.493607</td>\n",
              "      <td>0.493607</td>\n",
              "      <td>0.493607</td>\n",
              "      <td>0.493607</td>\n",
              "      <td>0.0</td>\n",
              "      <td>0.0</td>\n",
              "      <td>0.0</td>\n",
              "      <td>0.87988</td>\n",
              "    </tr>\n",
              "    <tr>\n",
              "      <th>1</th>\n",
              "      <td>1951-01-01</td>\n",
              "      <td>0.393592</td>\n",
              "      <td>0.854552</td>\n",
              "      <td>0.920384</td>\n",
              "      <td>0.393592</td>\n",
              "      <td>0.393592</td>\n",
              "      <td>0.493768</td>\n",
              "      <td>0.493768</td>\n",
              "      <td>0.493768</td>\n",
              "      <td>0.493768</td>\n",
              "      <td>0.493768</td>\n",
              "      <td>0.493768</td>\n",
              "      <td>0.0</td>\n",
              "      <td>0.0</td>\n",
              "      <td>0.0</td>\n",
              "      <td>0.88736</td>\n",
              "    </tr>\n",
              "  </tbody>\n",
              "</table>\n",
              "</div>"
            ],
            "text/plain": [
              "          ds     trend  ...  multiplicative_terms_upper     yhat\n",
              "0 1950-01-01  0.386272  ...                         0.0  0.87988\n",
              "1 1951-01-01  0.393592  ...                         0.0  0.88736\n",
              "\n",
              "[2 rows x 16 columns]"
            ]
          },
          "metadata": {
            "tags": []
          },
          "execution_count": 138
        }
      ]
    },
    {
      "cell_type": "code",
      "metadata": {
        "colab": {
          "base_uri": "https://localhost:8080/",
          "height": 542
        },
        "id": "irAgwruCu1q0",
        "outputId": "b1b3481e-1d63-4cc5-ab70-f30398895f45"
      },
      "source": [
        "# Forecast \r\n",
        "trace1 = go.Scatter(x = forecast_usa['ds'],\r\n",
        "                    y = forecast_usa['yhat'],\r\n",
        "                    mode = 'markers+lines',\r\n",
        "                    name = 'USA')\r\n",
        "# Gráfico de apenas linhas\r\n",
        "trace2 = go.Scatter(x = forecast_can['ds'],\r\n",
        "                    y = forecast_can['yhat'],\r\n",
        "                    mode = 'markers+lines',\r\n",
        "                    name = 'CANADA')\r\n",
        "# Criando gráfico com marcadores e linhas\r\n",
        "trace3 = go.Scatter(x = forecast_mex['ds'],\r\n",
        "                    y = forecast_mex['yhat'],\r\n",
        "                    mode = 'markers+lines',\r\n",
        "                    name = 'MEXICO')\r\n",
        "\r\n",
        "layout = go.Layout(title = 'Forecast')\r\n",
        "data = [trace1, trace2, trace3]\r\n",
        "\r\n",
        "fig = go.Figure(data=data, layout=layout)\r\n",
        "py.iplot(fig)\r\n"
      ],
      "execution_count": 136,
      "outputs": [
        {
          "output_type": "display_data",
          "data": {
            "text/html": [
              "<html>\n",
              "<head><meta charset=\"utf-8\" /></head>\n",
              "<body>\n",
              "    <div>\n",
              "            <script src=\"https://cdnjs.cloudflare.com/ajax/libs/mathjax/2.7.5/MathJax.js?config=TeX-AMS-MML_SVG\"></script><script type=\"text/javascript\">if (window.MathJax) {MathJax.Hub.Config({SVG: {font: \"STIX-Web\"}});}</script>\n",
              "                <script type=\"text/javascript\">window.PlotlyConfig = {MathJaxConfig: 'local'};</script>\n",
              "        <script src=\"https://cdn.plot.ly/plotly-latest.min.js\"></script>    \n",
              "            <div id=\"b0fbefef-0ae1-4900-bca9-28f945b19cc2\" class=\"plotly-graph-div\" style=\"height:525px; width:100%;\"></div>\n",
              "            <script type=\"text/javascript\">\n",
              "                \n",
              "                    window.PLOTLYENV=window.PLOTLYENV || {};\n",
              "                    \n",
              "                if (document.getElementById(\"b0fbefef-0ae1-4900-bca9-28f945b19cc2\")) {\n",
              "                    Plotly.newPlot(\n",
              "                        'b0fbefef-0ae1-4900-bca9-28f945b19cc2',\n",
              "                        [{\"mode\": \"markers+lines\", \"name\": \"USA\", \"type\": \"scatter\", \"x\": [\"1950-01-01T00:00:00\", \"1951-01-01T00:00:00\", \"1952-01-01T00:00:00\", \"1953-01-01T00:00:00\", \"1954-01-01T00:00:00\", \"1955-01-01T00:00:00\", \"1956-01-01T00:00:00\", \"1957-01-01T00:00:00\", \"1958-01-01T00:00:00\", \"1959-01-01T00:00:00\", \"1960-01-01T00:00:00\", \"1961-01-01T00:00:00\", \"1962-01-01T00:00:00\", \"1963-01-01T00:00:00\", \"1964-01-01T00:00:00\", \"1965-01-01T00:00:00\", \"1966-01-01T00:00:00\", \"1967-01-01T00:00:00\", \"1968-01-01T00:00:00\", \"1969-01-01T00:00:00\", \"1970-01-01T00:00:00\", \"1971-01-01T00:00:00\", \"1972-01-01T00:00:00\", \"1973-01-01T00:00:00\", \"1974-01-01T00:00:00\", \"1975-01-01T00:00:00\", \"1976-01-01T00:00:00\", \"1977-01-01T00:00:00\", \"1978-01-01T00:00:00\", \"1979-01-01T00:00:00\", \"1980-01-01T00:00:00\", \"1981-01-01T00:00:00\", \"1982-01-01T00:00:00\", \"1983-01-01T00:00:00\", \"1984-01-01T00:00:00\", \"1985-01-01T00:00:00\", \"1986-01-01T00:00:00\", \"1987-01-01T00:00:00\", \"1988-01-01T00:00:00\", \"1989-01-01T00:00:00\", \"1990-01-01T00:00:00\", \"1991-01-01T00:00:00\", \"1992-01-01T00:00:00\", \"1993-01-01T00:00:00\", \"1994-01-01T00:00:00\", \"1995-01-01T00:00:00\", \"1996-01-01T00:00:00\", \"1997-01-01T00:00:00\", \"1998-01-01T00:00:00\", \"1999-01-01T00:00:00\", \"2000-01-01T00:00:00\", \"2001-01-01T00:00:00\", \"2002-01-01T00:00:00\", \"2003-01-01T00:00:00\", \"2004-01-01T00:00:00\", \"2005-01-01T00:00:00\", \"2006-01-01T00:00:00\", \"2007-01-01T00:00:00\", \"2008-01-01T00:00:00\", \"2009-01-01T00:00:00\", \"2010-01-01T00:00:00\", \"2011-01-01T00:00:00\", \"2011-12-31T00:00:00\", \"2012-12-31T00:00:00\", \"2013-12-31T00:00:00\", \"2014-12-31T00:00:00\", \"2015-12-31T00:00:00\", \"2016-12-31T00:00:00\", \"2017-12-31T00:00:00\", \"2018-12-31T00:00:00\", \"2019-12-31T00:00:00\", \"2020-12-31T00:00:00\"], \"y\": [0.6186113637320796, 0.6259395588902764, 0.6366777708147189, 0.643159638892026, 0.6470746000811585, 0.6544027952417697, 0.6651410071686319, 0.671622875251865, 0.6755378364468658, 0.6828660316051047, 0.6936042435295923, 0.7000861116134586, 0.7040010728091024, 0.7113292679651051, 0.7220674798872064, 0.7285493479653711, 0.7324615896542572, 0.7397870653090294, 0.7452447350966828, 0.7464315938016557, 0.7450655767018192, 0.7471127935678673, 0.7525662179405083, 0.7537488195992017, 0.7523789401774902, 0.7544222947216601, 0.7598756660320415, 0.7610582144830984, 0.7596883350656454, 0.7617316896140691, 0.767185061920056, 0.7683676113694397, 0.771262276088835, 0.7775701747741226, 0.7872961517732407, 0.7927630116820354, 0.7988015268778756, 0.808258376940074, 0.8211252437685383, 0.8297434243112436, 0.8357888610464472, 0.845512459790341, 0.8586460753005007, 0.8675397418540959, 0.8738599119061958, 0.8835933159218343, 0.8967367367037802, 0.9056304032579003, 0.9119505733105595, 0.9216708512980718, 0.9348011460518812, 0.9436816506132931, 0.9499886946349047, 0.9597089726223982, 0.9728392673761626, 0.9817197719375781, 0.9880268159592251, 0.9977470939467568, 1.0108773887005424, 1.0197578932619302, 1.0260649372835609, 1.0357852152710707, 1.0972184939087244, 1.0654464232576077, 1.0853623930805298, 1.1086417219795361, 1.1352566152332373, 1.1034845445819323, 1.1234005144048382, 1.1466798433038554, 1.1732947365573956, 1.1415226659062876]}, {\"mode\": \"markers+lines\", \"name\": \"CANADA\", \"type\": \"scatter\", \"x\": [\"1950-01-01T00:00:00\", \"1951-01-01T00:00:00\", \"1952-01-01T00:00:00\", \"1953-01-01T00:00:00\", \"1954-01-01T00:00:00\", \"1955-01-01T00:00:00\", \"1956-01-01T00:00:00\", \"1957-01-01T00:00:00\", \"1958-01-01T00:00:00\", \"1959-01-01T00:00:00\", \"1960-01-01T00:00:00\", \"1961-01-01T00:00:00\", \"1962-01-01T00:00:00\", \"1963-01-01T00:00:00\", \"1964-01-01T00:00:00\", \"1965-01-01T00:00:00\", \"1966-01-01T00:00:00\", \"1967-01-01T00:00:00\", \"1968-01-01T00:00:00\", \"1969-01-01T00:00:00\", \"1970-01-01T00:00:00\", \"1971-01-01T00:00:00\", \"1972-01-01T00:00:00\", \"1973-01-01T00:00:00\", \"1974-01-01T00:00:00\", \"1975-01-01T00:00:00\", \"1976-01-01T00:00:00\", \"1977-01-01T00:00:00\", \"1978-01-01T00:00:00\", \"1979-01-01T00:00:00\", \"1980-01-01T00:00:00\", \"1981-01-01T00:00:00\", \"1982-01-01T00:00:00\", \"1983-01-01T00:00:00\", \"1984-01-01T00:00:00\", \"1985-01-01T00:00:00\", \"1986-01-01T00:00:00\", \"1987-01-01T00:00:00\", \"1988-01-01T00:00:00\", \"1989-01-01T00:00:00\", \"1990-01-01T00:00:00\", \"1991-01-01T00:00:00\", \"1992-01-01T00:00:00\", \"1993-01-01T00:00:00\", \"1994-01-01T00:00:00\", \"1995-01-01T00:00:00\", \"1996-01-01T00:00:00\", \"1997-01-01T00:00:00\", \"1998-01-01T00:00:00\", \"1999-01-01T00:00:00\", \"2000-01-01T00:00:00\", \"2001-01-01T00:00:00\", \"2002-01-01T00:00:00\", \"2003-01-01T00:00:00\", \"2004-01-01T00:00:00\", \"2005-01-01T00:00:00\", \"2006-01-01T00:00:00\", \"2007-01-01T00:00:00\", \"2008-01-01T00:00:00\", \"2009-01-01T00:00:00\", \"2010-01-01T00:00:00\", \"2011-01-01T00:00:00\", \"2011-12-31T00:00:00\", \"2012-12-31T00:00:00\", \"2013-12-31T00:00:00\", \"2014-12-31T00:00:00\", \"2015-12-31T00:00:00\", \"2016-12-31T00:00:00\", \"2017-12-31T00:00:00\", \"2018-12-31T00:00:00\", \"2019-12-31T00:00:00\", \"2020-12-31T00:00:00\"], \"y\": [0.8798797040395172, 0.8873597276013678, 0.9020377166673632, 0.9088960012023374, 0.9091777098553295, 0.9166577334129313, 0.9313357224746839, 0.9381940070015515, 0.9384757156463657, 0.9459541067021429, 0.9606304632620757, 0.9674835669318497, 0.9677601088749641, 0.9752336936052992, 0.9898986105094898, 0.996743787070183, 0.9970025239845672, 1.004459575806182, 1.0191002757491425, 1.0259211690007346, 1.0247947127404102, 1.0308665713873104, 1.0374060822106472, 1.0361035913039367, 1.0282137645926217, 1.027522252788519, 1.0340217111650256, 1.0326790580787548, 1.0247822358382837, 1.0240837285050197, 1.0305831866720472, 1.0292405333757109, 1.021343711131571, 1.0206452037946598, 1.0271446619663582, 1.025802008674691, 1.0179051864363173, 1.017206679104588, 1.0237061372770533, 1.0223634839885896, 1.0144666617520446, 1.013768154425683, 1.020267612603499, 1.0189249593191403, 1.011028137086761, 1.0103296297632494, 1.0168290879439614, 1.0154843664402171, 1.0075854816393748, 1.0043273132517474, 1.0082671103683487, 1.0043577832515482, 0.9939012999566272, 0.9906431315689528, 0.9945829286854597, 0.9906736015686199, 0.9802171182738342, 0.9769589498862123, 0.9808987470027767, 0.9769894198859186, 0.966532936591058, 0.9632747682034313, 1.0681798835879563, 0.9783390829932304, 0.99662220322834, 1.0220249793129907, 1.0544957019055465, 0.9646549013104317, 0.9829380215455263, 1.008340797630198, 1.0408115202224348, 0.9509707196277128]}, {\"mode\": \"markers+lines\", \"name\": \"MEXICO\", \"type\": \"scatter\", \"x\": [\"1950-01-01T00:00:00\", \"1951-01-01T00:00:00\", \"1952-01-01T00:00:00\", \"1953-01-01T00:00:00\", \"1954-01-01T00:00:00\", \"1955-01-01T00:00:00\", \"1956-01-01T00:00:00\", \"1957-01-01T00:00:00\", \"1958-01-01T00:00:00\", \"1959-01-01T00:00:00\", \"1960-01-01T00:00:00\", \"1961-01-01T00:00:00\", \"1962-01-01T00:00:00\", \"1963-01-01T00:00:00\", \"1964-01-01T00:00:00\", \"1965-01-01T00:00:00\", \"1966-01-01T00:00:00\", \"1967-01-01T00:00:00\", \"1968-01-01T00:00:00\", \"1969-01-01T00:00:00\", \"1970-01-01T00:00:00\", \"1971-01-01T00:00:00\", \"1972-01-01T00:00:00\", \"1973-01-01T00:00:00\", \"1974-01-01T00:00:00\", \"1975-01-01T00:00:00\", \"1976-01-01T00:00:00\", \"1977-01-01T00:00:00\", \"1978-01-01T00:00:00\", \"1979-01-01T00:00:00\", \"1980-01-01T00:00:00\", \"1981-01-01T00:00:00\", \"1982-01-01T00:00:00\", \"1983-01-01T00:00:00\", \"1984-01-01T00:00:00\", \"1985-01-01T00:00:00\", \"1986-01-01T00:00:00\", \"1987-01-01T00:00:00\", \"1988-01-01T00:00:00\", \"1989-01-01T00:00:00\", \"1990-01-01T00:00:00\", \"1991-01-01T00:00:00\", \"1992-01-01T00:00:00\", \"1993-01-01T00:00:00\", \"1994-01-01T00:00:00\", \"1995-01-01T00:00:00\", \"1996-01-01T00:00:00\", \"1997-01-01T00:00:00\", \"1998-01-01T00:00:00\", \"1999-01-01T00:00:00\", \"2000-01-01T00:00:00\", \"2001-01-01T00:00:00\", \"2002-01-01T00:00:00\", \"2003-01-01T00:00:00\", \"2004-01-01T00:00:00\", \"2005-01-01T00:00:00\", \"2006-01-01T00:00:00\", \"2007-01-01T00:00:00\", \"2008-01-01T00:00:00\", \"2009-01-01T00:00:00\", \"2010-01-01T00:00:00\", \"2011-01-01T00:00:00\", \"2011-12-31T00:00:00\", \"2012-12-31T00:00:00\", \"2013-12-31T00:00:00\", \"2014-12-31T00:00:00\", \"2015-12-31T00:00:00\", \"2016-12-31T00:00:00\", \"2017-12-31T00:00:00\", \"2018-12-31T00:00:00\", \"2019-12-31T00:00:00\", \"2020-12-31T00:00:00\"], \"y\": [0.8302437059327975, 0.8611334802609609, 0.8995750429284417, 0.9206439767031163, 0.94398324188898, 0.9748730162059844, 1.0133145788623155, 1.0343835126056429, 1.0577227777601608, 1.088612042632351, 1.1270530958438796, 1.1481166593994723, 1.171450569038964, 1.2023335932019807, 1.2407682590294913, 1.26183027709744, 1.2851176693995419, 1.3159555708153357, 1.3356310343648086, 1.3378824550799515, 1.3424350296918224, 1.3545381134173826, 1.3741781483744835, 1.3763940434326272, 1.3564721772772115, 1.344100820235477, 1.339263384691617, 1.3169347476857884, 1.2969916177763317, 1.2845989969805554, 1.2797410464873944, 1.2573918383269054, 1.2374275678240303, 1.225013806434848, 1.220151833341037, 1.1977985915590508, 1.1778343210502795, 1.1654205597281735, 1.1605585867454522, 1.1382180807273068, 1.1182665111470804, 1.1058751038377252, 1.1010354848677162, 1.0855630755346108, 1.0724608373480293, 1.0669247186525428, 1.0689403882964328, 1.0534900690367577, 1.040409860568244, 1.0348802781688948, 1.0369024841089547, 1.021452282125285, 1.0083721906121565, 1.0028426082127564, 1.0048648141527063, 0.9894146121690132, 0.9763345206560603, 0.9708049382566972, 0.9728271441967185, 0.957376942213008, 0.9442968506999563, 0.938767268300625, 1.0559875651310215, 0.9503512505614977, 0.9674268997799855, 0.9919772853947977, 1.023949895175318, 0.918313580605371, 0.9353892298238509, 0.9599396154386868, 0.9919122252188719, 0.8862759106493454]}],\n",
              "                        {\"template\": {\"data\": {\"bar\": [{\"error_x\": {\"color\": \"#2a3f5f\"}, \"error_y\": {\"color\": \"#2a3f5f\"}, \"marker\": {\"line\": {\"color\": \"#E5ECF6\", \"width\": 0.5}}, \"type\": \"bar\"}], \"barpolar\": [{\"marker\": {\"line\": {\"color\": \"#E5ECF6\", \"width\": 0.5}}, \"type\": \"barpolar\"}], \"carpet\": [{\"aaxis\": {\"endlinecolor\": \"#2a3f5f\", \"gridcolor\": \"white\", \"linecolor\": \"white\", \"minorgridcolor\": \"white\", \"startlinecolor\": \"#2a3f5f\"}, \"baxis\": {\"endlinecolor\": \"#2a3f5f\", \"gridcolor\": \"white\", \"linecolor\": \"white\", \"minorgridcolor\": \"white\", \"startlinecolor\": \"#2a3f5f\"}, \"type\": \"carpet\"}], \"choropleth\": [{\"colorbar\": {\"outlinewidth\": 0, \"ticks\": \"\"}, \"type\": \"choropleth\"}], \"contour\": [{\"colorbar\": {\"outlinewidth\": 0, \"ticks\": \"\"}, \"colorscale\": [[0.0, \"#0d0887\"], [0.1111111111111111, \"#46039f\"], [0.2222222222222222, \"#7201a8\"], [0.3333333333333333, \"#9c179e\"], [0.4444444444444444, \"#bd3786\"], [0.5555555555555556, \"#d8576b\"], [0.6666666666666666, \"#ed7953\"], [0.7777777777777778, \"#fb9f3a\"], [0.8888888888888888, \"#fdca26\"], [1.0, \"#f0f921\"]], \"type\": \"contour\"}], \"contourcarpet\": [{\"colorbar\": {\"outlinewidth\": 0, \"ticks\": \"\"}, \"type\": \"contourcarpet\"}], \"heatmap\": [{\"colorbar\": {\"outlinewidth\": 0, \"ticks\": \"\"}, \"colorscale\": [[0.0, \"#0d0887\"], [0.1111111111111111, \"#46039f\"], [0.2222222222222222, \"#7201a8\"], [0.3333333333333333, \"#9c179e\"], [0.4444444444444444, \"#bd3786\"], [0.5555555555555556, \"#d8576b\"], [0.6666666666666666, \"#ed7953\"], [0.7777777777777778, \"#fb9f3a\"], [0.8888888888888888, \"#fdca26\"], [1.0, \"#f0f921\"]], \"type\": \"heatmap\"}], \"heatmapgl\": [{\"colorbar\": {\"outlinewidth\": 0, \"ticks\": \"\"}, \"colorscale\": [[0.0, \"#0d0887\"], [0.1111111111111111, \"#46039f\"], [0.2222222222222222, \"#7201a8\"], [0.3333333333333333, \"#9c179e\"], [0.4444444444444444, \"#bd3786\"], [0.5555555555555556, \"#d8576b\"], [0.6666666666666666, \"#ed7953\"], [0.7777777777777778, \"#fb9f3a\"], [0.8888888888888888, \"#fdca26\"], [1.0, \"#f0f921\"]], \"type\": \"heatmapgl\"}], \"histogram\": [{\"marker\": {\"colorbar\": {\"outlinewidth\": 0, \"ticks\": \"\"}}, \"type\": \"histogram\"}], \"histogram2d\": [{\"colorbar\": {\"outlinewidth\": 0, \"ticks\": \"\"}, \"colorscale\": [[0.0, \"#0d0887\"], [0.1111111111111111, \"#46039f\"], [0.2222222222222222, \"#7201a8\"], [0.3333333333333333, \"#9c179e\"], [0.4444444444444444, \"#bd3786\"], [0.5555555555555556, \"#d8576b\"], [0.6666666666666666, \"#ed7953\"], [0.7777777777777778, \"#fb9f3a\"], [0.8888888888888888, \"#fdca26\"], [1.0, \"#f0f921\"]], \"type\": \"histogram2d\"}], \"histogram2dcontour\": [{\"colorbar\": {\"outlinewidth\": 0, \"ticks\": \"\"}, \"colorscale\": [[0.0, \"#0d0887\"], [0.1111111111111111, \"#46039f\"], [0.2222222222222222, \"#7201a8\"], [0.3333333333333333, \"#9c179e\"], [0.4444444444444444, \"#bd3786\"], [0.5555555555555556, \"#d8576b\"], [0.6666666666666666, \"#ed7953\"], [0.7777777777777778, \"#fb9f3a\"], [0.8888888888888888, \"#fdca26\"], [1.0, \"#f0f921\"]], \"type\": \"histogram2dcontour\"}], \"mesh3d\": [{\"colorbar\": {\"outlinewidth\": 0, \"ticks\": \"\"}, \"type\": \"mesh3d\"}], \"parcoords\": [{\"line\": {\"colorbar\": {\"outlinewidth\": 0, \"ticks\": \"\"}}, \"type\": \"parcoords\"}], \"pie\": [{\"automargin\": true, \"type\": \"pie\"}], \"scatter\": [{\"marker\": {\"colorbar\": {\"outlinewidth\": 0, \"ticks\": \"\"}}, \"type\": \"scatter\"}], \"scatter3d\": [{\"line\": {\"colorbar\": {\"outlinewidth\": 0, \"ticks\": \"\"}}, \"marker\": {\"colorbar\": {\"outlinewidth\": 0, \"ticks\": \"\"}}, \"type\": \"scatter3d\"}], \"scattercarpet\": [{\"marker\": {\"colorbar\": {\"outlinewidth\": 0, \"ticks\": \"\"}}, \"type\": \"scattercarpet\"}], \"scattergeo\": [{\"marker\": {\"colorbar\": {\"outlinewidth\": 0, \"ticks\": \"\"}}, \"type\": \"scattergeo\"}], \"scattergl\": [{\"marker\": {\"colorbar\": {\"outlinewidth\": 0, \"ticks\": \"\"}}, \"type\": \"scattergl\"}], \"scattermapbox\": [{\"marker\": {\"colorbar\": {\"outlinewidth\": 0, \"ticks\": \"\"}}, \"type\": \"scattermapbox\"}], \"scatterpolar\": [{\"marker\": {\"colorbar\": {\"outlinewidth\": 0, \"ticks\": \"\"}}, \"type\": \"scatterpolar\"}], \"scatterpolargl\": [{\"marker\": {\"colorbar\": {\"outlinewidth\": 0, \"ticks\": \"\"}}, \"type\": \"scatterpolargl\"}], \"scatterternary\": [{\"marker\": {\"colorbar\": {\"outlinewidth\": 0, \"ticks\": \"\"}}, \"type\": \"scatterternary\"}], \"surface\": [{\"colorbar\": {\"outlinewidth\": 0, \"ticks\": \"\"}, \"colorscale\": [[0.0, \"#0d0887\"], [0.1111111111111111, \"#46039f\"], [0.2222222222222222, \"#7201a8\"], [0.3333333333333333, \"#9c179e\"], [0.4444444444444444, \"#bd3786\"], [0.5555555555555556, \"#d8576b\"], [0.6666666666666666, \"#ed7953\"], [0.7777777777777778, \"#fb9f3a\"], [0.8888888888888888, \"#fdca26\"], [1.0, \"#f0f921\"]], \"type\": \"surface\"}], \"table\": [{\"cells\": {\"fill\": {\"color\": \"#EBF0F8\"}, \"line\": {\"color\": \"white\"}}, \"header\": {\"fill\": {\"color\": \"#C8D4E3\"}, \"line\": {\"color\": \"white\"}}, \"type\": \"table\"}]}, \"layout\": {\"annotationdefaults\": {\"arrowcolor\": \"#2a3f5f\", \"arrowhead\": 0, \"arrowwidth\": 1}, \"coloraxis\": {\"colorbar\": {\"outlinewidth\": 0, \"ticks\": \"\"}}, \"colorscale\": {\"diverging\": [[0, \"#8e0152\"], [0.1, \"#c51b7d\"], [0.2, \"#de77ae\"], [0.3, \"#f1b6da\"], [0.4, \"#fde0ef\"], [0.5, \"#f7f7f7\"], [0.6, \"#e6f5d0\"], [0.7, \"#b8e186\"], [0.8, \"#7fbc41\"], [0.9, \"#4d9221\"], [1, \"#276419\"]], \"sequential\": [[0.0, \"#0d0887\"], [0.1111111111111111, \"#46039f\"], [0.2222222222222222, \"#7201a8\"], [0.3333333333333333, \"#9c179e\"], [0.4444444444444444, \"#bd3786\"], [0.5555555555555556, \"#d8576b\"], [0.6666666666666666, \"#ed7953\"], [0.7777777777777778, \"#fb9f3a\"], [0.8888888888888888, \"#fdca26\"], [1.0, \"#f0f921\"]], \"sequentialminus\": [[0.0, \"#0d0887\"], [0.1111111111111111, \"#46039f\"], [0.2222222222222222, \"#7201a8\"], [0.3333333333333333, \"#9c179e\"], [0.4444444444444444, \"#bd3786\"], [0.5555555555555556, \"#d8576b\"], [0.6666666666666666, \"#ed7953\"], [0.7777777777777778, \"#fb9f3a\"], [0.8888888888888888, \"#fdca26\"], [1.0, \"#f0f921\"]]}, \"colorway\": [\"#636efa\", \"#EF553B\", \"#00cc96\", \"#ab63fa\", \"#FFA15A\", \"#19d3f3\", \"#FF6692\", \"#B6E880\", \"#FF97FF\", \"#FECB52\"], \"font\": {\"color\": \"#2a3f5f\"}, \"geo\": {\"bgcolor\": \"white\", \"lakecolor\": \"white\", \"landcolor\": \"#E5ECF6\", \"showlakes\": true, \"showland\": true, \"subunitcolor\": \"white\"}, \"hoverlabel\": {\"align\": \"left\"}, \"hovermode\": \"closest\", \"mapbox\": {\"style\": \"light\"}, \"paper_bgcolor\": \"white\", \"plot_bgcolor\": \"#E5ECF6\", \"polar\": {\"angularaxis\": {\"gridcolor\": \"white\", \"linecolor\": \"white\", \"ticks\": \"\"}, \"bgcolor\": \"#E5ECF6\", \"radialaxis\": {\"gridcolor\": \"white\", \"linecolor\": \"white\", \"ticks\": \"\"}}, \"scene\": {\"xaxis\": {\"backgroundcolor\": \"#E5ECF6\", \"gridcolor\": \"white\", \"gridwidth\": 2, \"linecolor\": \"white\", \"showbackground\": true, \"ticks\": \"\", \"zerolinecolor\": \"white\"}, \"yaxis\": {\"backgroundcolor\": \"#E5ECF6\", \"gridcolor\": \"white\", \"gridwidth\": 2, \"linecolor\": \"white\", \"showbackground\": true, \"ticks\": \"\", \"zerolinecolor\": \"white\"}, \"zaxis\": {\"backgroundcolor\": \"#E5ECF6\", \"gridcolor\": \"white\", \"gridwidth\": 2, \"linecolor\": \"white\", \"showbackground\": true, \"ticks\": \"\", \"zerolinecolor\": \"white\"}}, \"shapedefaults\": {\"line\": {\"color\": \"#2a3f5f\"}}, \"ternary\": {\"aaxis\": {\"gridcolor\": \"white\", \"linecolor\": \"white\", \"ticks\": \"\"}, \"baxis\": {\"gridcolor\": \"white\", \"linecolor\": \"white\", \"ticks\": \"\"}, \"bgcolor\": \"#E5ECF6\", \"caxis\": {\"gridcolor\": \"white\", \"linecolor\": \"white\", \"ticks\": \"\"}}, \"title\": {\"x\": 0.05}, \"xaxis\": {\"automargin\": true, \"gridcolor\": \"white\", \"linecolor\": \"white\", \"ticks\": \"\", \"title\": {\"standoff\": 15}, \"zerolinecolor\": \"white\", \"zerolinewidth\": 2}, \"yaxis\": {\"automargin\": true, \"gridcolor\": \"white\", \"linecolor\": \"white\", \"ticks\": \"\", \"title\": {\"standoff\": 15}, \"zerolinecolor\": \"white\", \"zerolinewidth\": 2}}}, \"title\": {\"text\": \"Forecast\"}},\n",
              "                        {\"responsive\": true}\n",
              "                    ).then(function(){\n",
              "                            \n",
              "var gd = document.getElementById('b0fbefef-0ae1-4900-bca9-28f945b19cc2');\n",
              "var x = new MutationObserver(function (mutations, observer) {{\n",
              "        var display = window.getComputedStyle(gd).display;\n",
              "        if (!display || display === 'none') {{\n",
              "            console.log([gd, 'removed!']);\n",
              "            Plotly.purge(gd);\n",
              "            observer.disconnect();\n",
              "        }}\n",
              "}});\n",
              "\n",
              "// Listen for the removal of the full notebook cells\n",
              "var notebookContainer = gd.closest('#notebook-container');\n",
              "if (notebookContainer) {{\n",
              "    x.observe(notebookContainer, {childList: true});\n",
              "}}\n",
              "\n",
              "// Listen for the clearing of the current output cell\n",
              "var outputEl = gd.closest('.output');\n",
              "if (outputEl) {{\n",
              "    x.observe(outputEl, {childList: true});\n",
              "}}\n",
              "\n",
              "                        })\n",
              "                };\n",
              "                \n",
              "            </script>\n",
              "        </div>\n",
              "</body>\n",
              "</html>"
            ]
          },
          "metadata": {
            "tags": []
          }
        }
      ]
    },
    {
      "cell_type": "markdown",
      "metadata": {
        "id": "BlCoxm2XImvg"
      },
      "source": [
        "Essa é a previsão para os proximos 10 anos"
      ]
    },
    {
      "cell_type": "code",
      "metadata": {
        "colab": {
          "base_uri": "https://localhost:8080/",
          "height": 542
        },
        "id": "BPFhAfgRy-Ij",
        "outputId": "239c1729-b77a-4f06-d254-c73eaaa8e530"
      },
      "source": [
        "# Trend\r\n",
        "trace1 = go.Scatter(x = forecast_usa['ds'],\r\n",
        "                    y = forecast_usa['trend'],\r\n",
        "                    mode = 'markers+lines',\r\n",
        "                    name = 'USA')\r\n",
        "# Gráfico de apenas linhas\r\n",
        "trace2 = go.Scatter(x = forecast_can['ds'],\r\n",
        "                    y = forecast_can['trend'],\r\n",
        "                    mode = 'markers+lines',\r\n",
        "                    name = 'CANADA')\r\n",
        "# Criando gráfico com marcadores e linhas\r\n",
        "trace3 = go.Scatter(x = forecast_mex['ds'],\r\n",
        "                    y = forecast_mex['trend'],\r\n",
        "                    mode = 'markers+lines',\r\n",
        "                    name = 'MEXICO')\r\n",
        "\r\n",
        "layout = go.Layout(title = 'Trend')\r\n",
        "data = [trace1, trace2, trace3]\r\n",
        "\r\n",
        "fig = go.Figure(data=data, layout=layout)\r\n",
        "py.iplot(fig)\r\n"
      ],
      "execution_count": 141,
      "outputs": [
        {
          "output_type": "display_data",
          "data": {
            "text/html": [
              "<html>\n",
              "<head><meta charset=\"utf-8\" /></head>\n",
              "<body>\n",
              "    <div>\n",
              "            <script src=\"https://cdnjs.cloudflare.com/ajax/libs/mathjax/2.7.5/MathJax.js?config=TeX-AMS-MML_SVG\"></script><script type=\"text/javascript\">if (window.MathJax) {MathJax.Hub.Config({SVG: {font: \"STIX-Web\"}});}</script>\n",
              "                <script type=\"text/javascript\">window.PlotlyConfig = {MathJaxConfig: 'local'};</script>\n",
              "        <script src=\"https://cdn.plot.ly/plotly-latest.min.js\"></script>    \n",
              "            <div id=\"62c6b18c-d36e-4eaa-b421-511831796a2a\" class=\"plotly-graph-div\" style=\"height:525px; width:100%;\"></div>\n",
              "            <script type=\"text/javascript\">\n",
              "                \n",
              "                    window.PLOTLYENV=window.PLOTLYENV || {};\n",
              "                    \n",
              "                if (document.getElementById(\"62c6b18c-d36e-4eaa-b421-511831796a2a\")) {\n",
              "                    Plotly.newPlot(\n",
              "                        '62c6b18c-d36e-4eaa-b421-511831796a2a',\n",
              "                        [{\"mode\": \"markers+lines\", \"name\": \"USA\", \"type\": \"scatter\", \"x\": [\"1950-01-01T00:00:00\", \"1951-01-01T00:00:00\", \"1952-01-01T00:00:00\", \"1953-01-01T00:00:00\", \"1954-01-01T00:00:00\", \"1955-01-01T00:00:00\", \"1956-01-01T00:00:00\", \"1957-01-01T00:00:00\", \"1958-01-01T00:00:00\", \"1959-01-01T00:00:00\", \"1960-01-01T00:00:00\", \"1961-01-01T00:00:00\", \"1962-01-01T00:00:00\", \"1963-01-01T00:00:00\", \"1964-01-01T00:00:00\", \"1965-01-01T00:00:00\", \"1966-01-01T00:00:00\", \"1967-01-01T00:00:00\", \"1968-01-01T00:00:00\", \"1969-01-01T00:00:00\", \"1970-01-01T00:00:00\", \"1971-01-01T00:00:00\", \"1972-01-01T00:00:00\", \"1973-01-01T00:00:00\", \"1974-01-01T00:00:00\", \"1975-01-01T00:00:00\", \"1976-01-01T00:00:00\", \"1977-01-01T00:00:00\", \"1978-01-01T00:00:00\", \"1979-01-01T00:00:00\", \"1980-01-01T00:00:00\", \"1981-01-01T00:00:00\", \"1982-01-01T00:00:00\", \"1983-01-01T00:00:00\", \"1984-01-01T00:00:00\", \"1985-01-01T00:00:00\", \"1986-01-01T00:00:00\", \"1987-01-01T00:00:00\", \"1988-01-01T00:00:00\", \"1989-01-01T00:00:00\", \"1990-01-01T00:00:00\", \"1991-01-01T00:00:00\", \"1992-01-01T00:00:00\", \"1993-01-01T00:00:00\", \"1994-01-01T00:00:00\", \"1995-01-01T00:00:00\", \"1996-01-01T00:00:00\", \"1997-01-01T00:00:00\", \"1998-01-01T00:00:00\", \"1999-01-01T00:00:00\", \"2000-01-01T00:00:00\", \"2001-01-01T00:00:00\", \"2002-01-01T00:00:00\", \"2003-01-01T00:00:00\", \"2004-01-01T00:00:00\", \"2005-01-01T00:00:00\", \"2006-01-01T00:00:00\", \"2007-01-01T00:00:00\", \"2008-01-01T00:00:00\", \"2009-01-01T00:00:00\", \"2010-01-01T00:00:00\", \"2011-01-01T00:00:00\", \"2011-12-31T00:00:00\", \"2012-12-31T00:00:00\", \"2013-12-31T00:00:00\", \"2014-12-31T00:00:00\", \"2015-12-31T00:00:00\", \"2016-12-31T00:00:00\", \"2017-12-31T00:00:00\", \"2018-12-31T00:00:00\", \"2019-12-31T00:00:00\", \"2020-12-31T00:00:00\"], \"y\": [0.19901555990488662, 0.20612649848787387, 0.21323743707086115, 0.22036785767416944, 0.22747879625397138, 0.23458973483937484, 0.24170067342477827, 0.248831094033987, 0.2559420326196733, 0.26305297120270604, 0.27016390978573884, 0.277294330395588, 0.28440526898191293, 0.2915162075627087, 0.2986271461433503, 0.30575756674750043, 0.3128657858270665, 0.31997400490663247, 0.32180440135281757, 0.3236398125837867, 0.32546977287462747, 0.3272997331654681, 0.329125884196646, 0.330957038381334, 0.3327831363502976, 0.3346092343192612, 0.33643533228817946, 0.33826643326523176, 0.3400925312384514, 0.34191862921167104, 0.34374472817619184, 0.3455758301515743, 0.35166647226164427, 0.35775711437171437, 0.3638558180293699, 0.36997123046416985, 0.3792057230506794, 0.38844531653767733, 0.39768491002467515, 0.4069516430933713, 0.41619305721925687, 0.4256993993879406, 0.4352057415566245, 0.44474796063622984, 0.4542641080790057, 0.4637802555194438, 0.47329640295988196, 0.4828386220400416, 0.49235476948337015, 0.5018577908956781, 0.5113608123079859, 0.520889869395396, 0.5303928908077039, 0.5398959122200117, 0.5493989336323195, 0.5589279907197297, 0.5684310121320375, 0.5779340335443454, 0.5874370549566532, 0.5969661120440634, 0.6064691334563712, 0.6159721548686791, 0.6254491406058846, 0.6349781976932948, 0.6444812191056026, 0.6539842405179105, 0.6634872619302183, 0.6730163190176284, 0.6825193404299362, 0.6920223618422441, 0.7015253832545519, 0.7110544403419621]}, {\"mode\": \"markers+lines\", \"name\": \"CANADA\", \"type\": \"scatter\", \"x\": [\"1950-01-01T00:00:00\", \"1951-01-01T00:00:00\", \"1952-01-01T00:00:00\", \"1953-01-01T00:00:00\", \"1954-01-01T00:00:00\", \"1955-01-01T00:00:00\", \"1956-01-01T00:00:00\", \"1957-01-01T00:00:00\", \"1958-01-01T00:00:00\", \"1959-01-01T00:00:00\", \"1960-01-01T00:00:00\", \"1961-01-01T00:00:00\", \"1962-01-01T00:00:00\", \"1963-01-01T00:00:00\", \"1964-01-01T00:00:00\", \"1965-01-01T00:00:00\", \"1966-01-01T00:00:00\", \"1967-01-01T00:00:00\", \"1968-01-01T00:00:00\", \"1969-01-01T00:00:00\", \"1970-01-01T00:00:00\", \"1971-01-01T00:00:00\", \"1972-01-01T00:00:00\", \"1973-01-01T00:00:00\", \"1974-01-01T00:00:00\", \"1975-01-01T00:00:00\", \"1976-01-01T00:00:00\", \"1977-01-01T00:00:00\", \"1978-01-01T00:00:00\", \"1979-01-01T00:00:00\", \"1980-01-01T00:00:00\", \"1981-01-01T00:00:00\", \"1982-01-01T00:00:00\", \"1983-01-01T00:00:00\", \"1984-01-01T00:00:00\", \"1985-01-01T00:00:00\", \"1986-01-01T00:00:00\", \"1987-01-01T00:00:00\", \"1988-01-01T00:00:00\", \"1989-01-01T00:00:00\", \"1990-01-01T00:00:00\", \"1991-01-01T00:00:00\", \"1992-01-01T00:00:00\", \"1993-01-01T00:00:00\", \"1994-01-01T00:00:00\", \"1995-01-01T00:00:00\", \"1996-01-01T00:00:00\", \"1997-01-01T00:00:00\", \"1998-01-01T00:00:00\", \"1999-01-01T00:00:00\", \"2000-01-01T00:00:00\", \"2001-01-01T00:00:00\", \"2002-01-01T00:00:00\", \"2003-01-01T00:00:00\", \"2004-01-01T00:00:00\", \"2005-01-01T00:00:00\", \"2006-01-01T00:00:00\", \"2007-01-01T00:00:00\", \"2008-01-01T00:00:00\", \"2009-01-01T00:00:00\", \"2010-01-01T00:00:00\", \"2011-01-01T00:00:00\", \"2011-12-31T00:00:00\", \"2012-12-31T00:00:00\", \"2013-12-31T00:00:00\", \"2014-12-31T00:00:00\", \"2015-12-31T00:00:00\", \"2016-12-31T00:00:00\", \"2017-12-31T00:00:00\", \"2018-12-31T00:00:00\", \"2019-12-31T00:00:00\", \"2020-12-31T00:00:00\"], \"y\": [0.3862724794781462, 0.3935919675849067, 0.40091145569166725, 0.40825099718885227, 0.4155704852939685, 0.4228899733964793, 0.43020946149899014, 0.43754900298801586, 0.4448684910849951, 0.4521863466856879, 0.4595042022863806, 0.4668385629183399, 0.4741528843135998, 0.48146593358884526, 0.4887723495337929, 0.49609878305667193, 0.5033952994231995, 0.5106918157897271, 0.5179740147734303, 0.525276164987226, 0.5311874881790402, 0.5370988113708545, 0.5362798212349403, 0.5354585872904345, 0.5346065400312483, 0.5337544927720618, 0.5328954501893186, 0.5320340540652527, 0.5311750112769078, 0.5303159684885629, 0.5294569256963342, 0.5285955293622089, 0.5277364865702014, 0.5268774437781941, 0.5260184009906352, 0.5251570046611928, 0.5242979618749382, 0.5234389190881397, 0.5225798763013412, 0.5217184799750708, 0.5208594371906755, 0.5200003944092214, 0.5191413516277675, 0.5182799553056477, 0.5174209125253916, 0.5165618697467944, 0.5157028269681971, 0.5148393624267363, 0.5139782570780117, 0.5105595532352926, 0.5071408493925736, 0.5037127792379567, 0.5002940753952377, 0.49687537155251865, 0.4934566677097996, 0.49002859755518274, 0.4866098937124637, 0.4831911898697447, 0.4797724860270257, 0.4763444158724088, 0.47292571202968975, 0.4695070081869707, 0.46609767065614954, 0.46266960050153266, 0.45925089665881363, 0.45583219281609466, 0.4524134889733756, 0.4489854188187587, 0.4455667149760397, 0.4421480111333207, 0.4387293072906016, 0.43530123713598473]}, {\"mode\": \"markers+lines\", \"name\": \"MEXICO\", \"type\": \"scatter\", \"x\": [\"1950-01-01T00:00:00\", \"1951-01-01T00:00:00\", \"1952-01-01T00:00:00\", \"1953-01-01T00:00:00\", \"1954-01-01T00:00:00\", \"1955-01-01T00:00:00\", \"1956-01-01T00:00:00\", \"1957-01-01T00:00:00\", \"1958-01-01T00:00:00\", \"1959-01-01T00:00:00\", \"1960-01-01T00:00:00\", \"1961-01-01T00:00:00\", \"1962-01-01T00:00:00\", \"1963-01-01T00:00:00\", \"1964-01-01T00:00:00\", \"1965-01-01T00:00:00\", \"1966-01-01T00:00:00\", \"1967-01-01T00:00:00\", \"1968-01-01T00:00:00\", \"1969-01-01T00:00:00\", \"1970-01-01T00:00:00\", \"1971-01-01T00:00:00\", \"1972-01-01T00:00:00\", \"1973-01-01T00:00:00\", \"1974-01-01T00:00:00\", \"1975-01-01T00:00:00\", \"1976-01-01T00:00:00\", \"1977-01-01T00:00:00\", \"1978-01-01T00:00:00\", \"1979-01-01T00:00:00\", \"1980-01-01T00:00:00\", \"1981-01-01T00:00:00\", \"1982-01-01T00:00:00\", \"1983-01-01T00:00:00\", \"1984-01-01T00:00:00\", \"1985-01-01T00:00:00\", \"1986-01-01T00:00:00\", \"1987-01-01T00:00:00\", \"1988-01-01T00:00:00\", \"1989-01-01T00:00:00\", \"1990-01-01T00:00:00\", \"1991-01-01T00:00:00\", \"1992-01-01T00:00:00\", \"1993-01-01T00:00:00\", \"1994-01-01T00:00:00\", \"1995-01-01T00:00:00\", \"1996-01-01T00:00:00\", \"1997-01-01T00:00:00\", \"1998-01-01T00:00:00\", \"1999-01-01T00:00:00\", \"2000-01-01T00:00:00\", \"2001-01-01T00:00:00\", \"2002-01-01T00:00:00\", \"2003-01-01T00:00:00\", \"2004-01-01T00:00:00\", \"2005-01-01T00:00:00\", \"2006-01-01T00:00:00\", \"2007-01-01T00:00:00\", \"2008-01-01T00:00:00\", \"2009-01-01T00:00:00\", \"2010-01-01T00:00:00\", \"2011-01-01T00:00:00\", \"2011-12-31T00:00:00\", \"2012-12-31T00:00:00\", \"2013-12-31T00:00:00\", \"2014-12-31T00:00:00\", \"2015-12-31T00:00:00\", \"2016-12-31T00:00:00\", \"2017-12-31T00:00:00\", \"2018-12-31T00:00:00\", \"2019-12-31T00:00:00\", \"2020-12-31T00:00:00\"], \"y\": [0.39999558785775524, 0.42841100924374376, 0.45682643062973227, 0.48531970245657263, 0.5137351238139407, 0.5421505451887715, 0.5705659665636023, 0.5990592383590537, 0.6274746596851186, 0.6558895716151404, 0.6843044835451622, 0.7127923851529134, 0.7412024509639223, 0.7696111221847666, 0.7980196467307737, 0.8265060028508797, 0.8548695513245003, 0.8832330997981209, 0.8928824220660746, 0.9025581808333927, 0.91218691161678, 0.9218156424001672, 0.9314295360757573, 0.941069769186075, 0.9262240592021668, 0.9113783492182586, 0.8965147723928917, 0.8816104734392362, 0.8667434997012868, 0.8518765259633376, 0.8369924341886578, 0.8220675640803488, 0.8071794497489863, 0.7922913354176239, 0.7774032210422908, 0.7624743173125048, 0.7475862029752336, 0.7326980887109753, 0.7178099744467169, 0.7028938064807344, 0.6880183930720363, 0.6731526328205, 0.6582868725689638, 0.6502388012880764, 0.6422127192729841, 0.6342022476353171, 0.6261917759976501, 0.6181657947902257, 0.6101617424932041, 0.602157807151674, 0.5941538718101439, 0.586128007878637, 0.5781240725371068, 0.5701201371955766, 0.5621162018540465, 0.5540903379225396, 0.5460864025810095, 0.5380824672394794, 0.5300785318979493, 0.5220526679664422, 0.5140487326249121, 0.506044797283382, 0.4980627905318286, 0.49003692660032167, 0.48203299125879157, 0.47402905591726147, 0.46602512057573137, 0.4579992566442245, 0.4499953213026943, 0.4419913859611641, 0.433987450619634, 0.42596158668812706]}],\n",
              "                        {\"template\": {\"data\": {\"bar\": [{\"error_x\": {\"color\": \"#2a3f5f\"}, \"error_y\": {\"color\": \"#2a3f5f\"}, \"marker\": {\"line\": {\"color\": \"#E5ECF6\", \"width\": 0.5}}, \"type\": \"bar\"}], \"barpolar\": [{\"marker\": {\"line\": {\"color\": \"#E5ECF6\", \"width\": 0.5}}, \"type\": \"barpolar\"}], \"carpet\": [{\"aaxis\": {\"endlinecolor\": \"#2a3f5f\", \"gridcolor\": \"white\", \"linecolor\": \"white\", \"minorgridcolor\": \"white\", \"startlinecolor\": \"#2a3f5f\"}, \"baxis\": {\"endlinecolor\": \"#2a3f5f\", \"gridcolor\": \"white\", \"linecolor\": \"white\", \"minorgridcolor\": \"white\", \"startlinecolor\": \"#2a3f5f\"}, \"type\": \"carpet\"}], \"choropleth\": [{\"colorbar\": {\"outlinewidth\": 0, \"ticks\": \"\"}, \"type\": \"choropleth\"}], \"contour\": [{\"colorbar\": {\"outlinewidth\": 0, \"ticks\": \"\"}, \"colorscale\": [[0.0, \"#0d0887\"], [0.1111111111111111, \"#46039f\"], [0.2222222222222222, \"#7201a8\"], [0.3333333333333333, \"#9c179e\"], [0.4444444444444444, \"#bd3786\"], [0.5555555555555556, \"#d8576b\"], [0.6666666666666666, \"#ed7953\"], [0.7777777777777778, \"#fb9f3a\"], [0.8888888888888888, \"#fdca26\"], [1.0, \"#f0f921\"]], \"type\": \"contour\"}], \"contourcarpet\": [{\"colorbar\": {\"outlinewidth\": 0, \"ticks\": \"\"}, \"type\": \"contourcarpet\"}], \"heatmap\": [{\"colorbar\": {\"outlinewidth\": 0, \"ticks\": \"\"}, \"colorscale\": [[0.0, \"#0d0887\"], [0.1111111111111111, \"#46039f\"], [0.2222222222222222, \"#7201a8\"], [0.3333333333333333, \"#9c179e\"], [0.4444444444444444, \"#bd3786\"], [0.5555555555555556, \"#d8576b\"], [0.6666666666666666, \"#ed7953\"], [0.7777777777777778, \"#fb9f3a\"], [0.8888888888888888, \"#fdca26\"], [1.0, \"#f0f921\"]], \"type\": \"heatmap\"}], \"heatmapgl\": [{\"colorbar\": {\"outlinewidth\": 0, \"ticks\": \"\"}, \"colorscale\": [[0.0, \"#0d0887\"], [0.1111111111111111, \"#46039f\"], [0.2222222222222222, \"#7201a8\"], [0.3333333333333333, \"#9c179e\"], [0.4444444444444444, \"#bd3786\"], [0.5555555555555556, \"#d8576b\"], [0.6666666666666666, \"#ed7953\"], [0.7777777777777778, \"#fb9f3a\"], [0.8888888888888888, \"#fdca26\"], [1.0, \"#f0f921\"]], \"type\": \"heatmapgl\"}], \"histogram\": [{\"marker\": {\"colorbar\": {\"outlinewidth\": 0, \"ticks\": \"\"}}, \"type\": \"histogram\"}], \"histogram2d\": [{\"colorbar\": {\"outlinewidth\": 0, \"ticks\": \"\"}, \"colorscale\": [[0.0, \"#0d0887\"], [0.1111111111111111, \"#46039f\"], [0.2222222222222222, \"#7201a8\"], [0.3333333333333333, \"#9c179e\"], [0.4444444444444444, \"#bd3786\"], [0.5555555555555556, \"#d8576b\"], [0.6666666666666666, \"#ed7953\"], [0.7777777777777778, \"#fb9f3a\"], [0.8888888888888888, \"#fdca26\"], [1.0, \"#f0f921\"]], \"type\": \"histogram2d\"}], \"histogram2dcontour\": [{\"colorbar\": {\"outlinewidth\": 0, \"ticks\": \"\"}, \"colorscale\": [[0.0, \"#0d0887\"], [0.1111111111111111, \"#46039f\"], [0.2222222222222222, \"#7201a8\"], [0.3333333333333333, \"#9c179e\"], [0.4444444444444444, \"#bd3786\"], [0.5555555555555556, \"#d8576b\"], [0.6666666666666666, \"#ed7953\"], [0.7777777777777778, \"#fb9f3a\"], [0.8888888888888888, \"#fdca26\"], [1.0, \"#f0f921\"]], \"type\": \"histogram2dcontour\"}], \"mesh3d\": [{\"colorbar\": {\"outlinewidth\": 0, \"ticks\": \"\"}, \"type\": \"mesh3d\"}], \"parcoords\": [{\"line\": {\"colorbar\": {\"outlinewidth\": 0, \"ticks\": \"\"}}, \"type\": \"parcoords\"}], \"pie\": [{\"automargin\": true, \"type\": \"pie\"}], \"scatter\": [{\"marker\": {\"colorbar\": {\"outlinewidth\": 0, \"ticks\": \"\"}}, \"type\": \"scatter\"}], \"scatter3d\": [{\"line\": {\"colorbar\": {\"outlinewidth\": 0, \"ticks\": \"\"}}, \"marker\": {\"colorbar\": {\"outlinewidth\": 0, \"ticks\": \"\"}}, \"type\": \"scatter3d\"}], \"scattercarpet\": [{\"marker\": {\"colorbar\": {\"outlinewidth\": 0, \"ticks\": \"\"}}, \"type\": \"scattercarpet\"}], \"scattergeo\": [{\"marker\": {\"colorbar\": {\"outlinewidth\": 0, \"ticks\": \"\"}}, \"type\": \"scattergeo\"}], \"scattergl\": [{\"marker\": {\"colorbar\": {\"outlinewidth\": 0, \"ticks\": \"\"}}, \"type\": \"scattergl\"}], \"scattermapbox\": [{\"marker\": {\"colorbar\": {\"outlinewidth\": 0, \"ticks\": \"\"}}, \"type\": \"scattermapbox\"}], \"scatterpolar\": [{\"marker\": {\"colorbar\": {\"outlinewidth\": 0, \"ticks\": \"\"}}, \"type\": \"scatterpolar\"}], \"scatterpolargl\": [{\"marker\": {\"colorbar\": {\"outlinewidth\": 0, \"ticks\": \"\"}}, \"type\": \"scatterpolargl\"}], \"scatterternary\": [{\"marker\": {\"colorbar\": {\"outlinewidth\": 0, \"ticks\": \"\"}}, \"type\": \"scatterternary\"}], \"surface\": [{\"colorbar\": {\"outlinewidth\": 0, \"ticks\": \"\"}, \"colorscale\": [[0.0, \"#0d0887\"], [0.1111111111111111, \"#46039f\"], [0.2222222222222222, \"#7201a8\"], [0.3333333333333333, \"#9c179e\"], [0.4444444444444444, \"#bd3786\"], [0.5555555555555556, \"#d8576b\"], [0.6666666666666666, \"#ed7953\"], [0.7777777777777778, \"#fb9f3a\"], [0.8888888888888888, \"#fdca26\"], [1.0, \"#f0f921\"]], \"type\": \"surface\"}], \"table\": [{\"cells\": {\"fill\": {\"color\": \"#EBF0F8\"}, \"line\": {\"color\": \"white\"}}, \"header\": {\"fill\": {\"color\": \"#C8D4E3\"}, \"line\": {\"color\": \"white\"}}, \"type\": \"table\"}]}, \"layout\": {\"annotationdefaults\": {\"arrowcolor\": \"#2a3f5f\", \"arrowhead\": 0, \"arrowwidth\": 1}, \"coloraxis\": {\"colorbar\": {\"outlinewidth\": 0, \"ticks\": \"\"}}, \"colorscale\": {\"diverging\": [[0, \"#8e0152\"], [0.1, \"#c51b7d\"], [0.2, \"#de77ae\"], [0.3, \"#f1b6da\"], [0.4, \"#fde0ef\"], [0.5, \"#f7f7f7\"], [0.6, \"#e6f5d0\"], [0.7, \"#b8e186\"], [0.8, \"#7fbc41\"], [0.9, \"#4d9221\"], [1, \"#276419\"]], \"sequential\": [[0.0, \"#0d0887\"], [0.1111111111111111, \"#46039f\"], [0.2222222222222222, \"#7201a8\"], [0.3333333333333333, \"#9c179e\"], [0.4444444444444444, \"#bd3786\"], [0.5555555555555556, \"#d8576b\"], [0.6666666666666666, \"#ed7953\"], [0.7777777777777778, \"#fb9f3a\"], [0.8888888888888888, \"#fdca26\"], [1.0, \"#f0f921\"]], \"sequentialminus\": [[0.0, \"#0d0887\"], [0.1111111111111111, \"#46039f\"], [0.2222222222222222, \"#7201a8\"], [0.3333333333333333, \"#9c179e\"], [0.4444444444444444, \"#bd3786\"], [0.5555555555555556, \"#d8576b\"], [0.6666666666666666, \"#ed7953\"], [0.7777777777777778, \"#fb9f3a\"], [0.8888888888888888, \"#fdca26\"], [1.0, \"#f0f921\"]]}, \"colorway\": [\"#636efa\", \"#EF553B\", \"#00cc96\", \"#ab63fa\", \"#FFA15A\", \"#19d3f3\", \"#FF6692\", \"#B6E880\", \"#FF97FF\", \"#FECB52\"], \"font\": {\"color\": \"#2a3f5f\"}, \"geo\": {\"bgcolor\": \"white\", \"lakecolor\": \"white\", \"landcolor\": \"#E5ECF6\", \"showlakes\": true, \"showland\": true, \"subunitcolor\": \"white\"}, \"hoverlabel\": {\"align\": \"left\"}, \"hovermode\": \"closest\", \"mapbox\": {\"style\": \"light\"}, \"paper_bgcolor\": \"white\", \"plot_bgcolor\": \"#E5ECF6\", \"polar\": {\"angularaxis\": {\"gridcolor\": \"white\", \"linecolor\": \"white\", \"ticks\": \"\"}, \"bgcolor\": \"#E5ECF6\", \"radialaxis\": {\"gridcolor\": \"white\", \"linecolor\": \"white\", \"ticks\": \"\"}}, \"scene\": {\"xaxis\": {\"backgroundcolor\": \"#E5ECF6\", \"gridcolor\": \"white\", \"gridwidth\": 2, \"linecolor\": \"white\", \"showbackground\": true, \"ticks\": \"\", \"zerolinecolor\": \"white\"}, \"yaxis\": {\"backgroundcolor\": \"#E5ECF6\", \"gridcolor\": \"white\", \"gridwidth\": 2, \"linecolor\": \"white\", \"showbackground\": true, \"ticks\": \"\", \"zerolinecolor\": \"white\"}, \"zaxis\": {\"backgroundcolor\": \"#E5ECF6\", \"gridcolor\": \"white\", \"gridwidth\": 2, \"linecolor\": \"white\", \"showbackground\": true, \"ticks\": \"\", \"zerolinecolor\": \"white\"}}, \"shapedefaults\": {\"line\": {\"color\": \"#2a3f5f\"}}, \"ternary\": {\"aaxis\": {\"gridcolor\": \"white\", \"linecolor\": \"white\", \"ticks\": \"\"}, \"baxis\": {\"gridcolor\": \"white\", \"linecolor\": \"white\", \"ticks\": \"\"}, \"bgcolor\": \"#E5ECF6\", \"caxis\": {\"gridcolor\": \"white\", \"linecolor\": \"white\", \"ticks\": \"\"}}, \"title\": {\"x\": 0.05}, \"xaxis\": {\"automargin\": true, \"gridcolor\": \"white\", \"linecolor\": \"white\", \"ticks\": \"\", \"title\": {\"standoff\": 15}, \"zerolinecolor\": \"white\", \"zerolinewidth\": 2}, \"yaxis\": {\"automargin\": true, \"gridcolor\": \"white\", \"linecolor\": \"white\", \"ticks\": \"\", \"title\": {\"standoff\": 15}, \"zerolinecolor\": \"white\", \"zerolinewidth\": 2}}}, \"title\": {\"text\": \"Trend\"}},\n",
              "                        {\"responsive\": true}\n",
              "                    ).then(function(){\n",
              "                            \n",
              "var gd = document.getElementById('62c6b18c-d36e-4eaa-b421-511831796a2a');\n",
              "var x = new MutationObserver(function (mutations, observer) {{\n",
              "        var display = window.getComputedStyle(gd).display;\n",
              "        if (!display || display === 'none') {{\n",
              "            console.log([gd, 'removed!']);\n",
              "            Plotly.purge(gd);\n",
              "            observer.disconnect();\n",
              "        }}\n",
              "}});\n",
              "\n",
              "// Listen for the removal of the full notebook cells\n",
              "var notebookContainer = gd.closest('#notebook-container');\n",
              "if (notebookContainer) {{\n",
              "    x.observe(notebookContainer, {childList: true});\n",
              "}}\n",
              "\n",
              "// Listen for the clearing of the current output cell\n",
              "var outputEl = gd.closest('.output');\n",
              "if (outputEl) {{\n",
              "    x.observe(outputEl, {childList: true});\n",
              "}}\n",
              "\n",
              "                        })\n",
              "                };\n",
              "                \n",
              "            </script>\n",
              "        </div>\n",
              "</body>\n",
              "</html>"
            ]
          },
          "metadata": {
            "tags": []
          }
        }
      ]
    },
    {
      "cell_type": "markdown",
      "metadata": {
        "id": "0ZEtUHimIvht"
      },
      "source": [
        "Tendencia para os proximos anos temos uma estimativa da seguinte:\r\n",
        "USA continuar a subir \r\n",
        "MEX tendendo a cair\r\n",
        "CAN tendendo a equilibrio"
      ]
    },
    {
      "cell_type": "code",
      "metadata": {
        "colab": {
          "base_uri": "https://localhost:8080/",
          "height": 542
        },
        "id": "3iI3xqPVHMdq",
        "outputId": "d970165c-7e23-432d-d562-601ca17be3d8"
      },
      "source": [
        "# seasonality\r\n",
        "trace1 = go.Scatter(x = forecast_usa['ds'],\r\n",
        "                    y = forecast_usa['yearly'],\r\n",
        "                    mode = 'markers+lines',\r\n",
        "                    name = 'USA')\r\n",
        "# Gráfico de apenas linhas\r\n",
        "trace2 = go.Scatter(x = forecast_can['ds'],\r\n",
        "                    y = forecast_can['yearly'],\r\n",
        "                    mode = 'markers+lines',\r\n",
        "                    name = 'CANADA')\r\n",
        "# Criando gráfico com marcadores e linhas\r\n",
        "trace3 = go.Scatter(x = forecast_mex['ds'],\r\n",
        "                    y = forecast_mex['yearly'],\r\n",
        "                    mode = 'markers+lines',\r\n",
        "                    name = 'MEXICO')\r\n",
        "\r\n",
        "layout = go.Layout(title = 'seasonality')\r\n",
        "data = [trace1, trace2, trace3]\r\n",
        "\r\n",
        "fig = go.Figure(data=data, layout=layout)\r\n",
        "py.iplot(fig)"
      ],
      "execution_count": 142,
      "outputs": [
        {
          "output_type": "display_data",
          "data": {
            "text/html": [
              "<html>\n",
              "<head><meta charset=\"utf-8\" /></head>\n",
              "<body>\n",
              "    <div>\n",
              "            <script src=\"https://cdnjs.cloudflare.com/ajax/libs/mathjax/2.7.5/MathJax.js?config=TeX-AMS-MML_SVG\"></script><script type=\"text/javascript\">if (window.MathJax) {MathJax.Hub.Config({SVG: {font: \"STIX-Web\"}});}</script>\n",
              "                <script type=\"text/javascript\">window.PlotlyConfig = {MathJaxConfig: 'local'};</script>\n",
              "        <script src=\"https://cdn.plot.ly/plotly-latest.min.js\"></script>    \n",
              "            <div id=\"039c2494-56ad-490c-97cd-300fb0c7dace\" class=\"plotly-graph-div\" style=\"height:525px; width:100%;\"></div>\n",
              "            <script type=\"text/javascript\">\n",
              "                \n",
              "                    window.PLOTLYENV=window.PLOTLYENV || {};\n",
              "                    \n",
              "                if (document.getElementById(\"039c2494-56ad-490c-97cd-300fb0c7dace\")) {\n",
              "                    Plotly.newPlot(\n",
              "                        '039c2494-56ad-490c-97cd-300fb0c7dace',\n",
              "                        [{\"mode\": \"markers+lines\", \"name\": \"USA\", \"type\": \"scatter\", \"x\": [\"1950-01-01T00:00:00\", \"1951-01-01T00:00:00\", \"1952-01-01T00:00:00\", \"1953-01-01T00:00:00\", \"1954-01-01T00:00:00\", \"1955-01-01T00:00:00\", \"1956-01-01T00:00:00\", \"1957-01-01T00:00:00\", \"1958-01-01T00:00:00\", \"1959-01-01T00:00:00\", \"1960-01-01T00:00:00\", \"1961-01-01T00:00:00\", \"1962-01-01T00:00:00\", \"1963-01-01T00:00:00\", \"1964-01-01T00:00:00\", \"1965-01-01T00:00:00\", \"1966-01-01T00:00:00\", \"1967-01-01T00:00:00\", \"1968-01-01T00:00:00\", \"1969-01-01T00:00:00\", \"1970-01-01T00:00:00\", \"1971-01-01T00:00:00\", \"1972-01-01T00:00:00\", \"1973-01-01T00:00:00\", \"1974-01-01T00:00:00\", \"1975-01-01T00:00:00\", \"1976-01-01T00:00:00\", \"1977-01-01T00:00:00\", \"1978-01-01T00:00:00\", \"1979-01-01T00:00:00\", \"1980-01-01T00:00:00\", \"1981-01-01T00:00:00\", \"1982-01-01T00:00:00\", \"1983-01-01T00:00:00\", \"1984-01-01T00:00:00\", \"1985-01-01T00:00:00\", \"1986-01-01T00:00:00\", \"1987-01-01T00:00:00\", \"1988-01-01T00:00:00\", \"1989-01-01T00:00:00\", \"1990-01-01T00:00:00\", \"1991-01-01T00:00:00\", \"1992-01-01T00:00:00\", \"1993-01-01T00:00:00\", \"1994-01-01T00:00:00\", \"1995-01-01T00:00:00\", \"1996-01-01T00:00:00\", \"1997-01-01T00:00:00\", \"1998-01-01T00:00:00\", \"1999-01-01T00:00:00\", \"2000-01-01T00:00:00\", \"2001-01-01T00:00:00\", \"2002-01-01T00:00:00\", \"2003-01-01T00:00:00\", \"2004-01-01T00:00:00\", \"2005-01-01T00:00:00\", \"2006-01-01T00:00:00\", \"2007-01-01T00:00:00\", \"2008-01-01T00:00:00\", \"2009-01-01T00:00:00\", \"2010-01-01T00:00:00\", \"2011-01-01T00:00:00\", \"2011-12-31T00:00:00\", \"2012-12-31T00:00:00\", \"2013-12-31T00:00:00\", \"2014-12-31T00:00:00\", \"2015-12-31T00:00:00\", \"2016-12-31T00:00:00\", \"2017-12-31T00:00:00\", \"2018-12-31T00:00:00\", \"2019-12-31T00:00:00\", \"2020-12-31T00:00:00\"], \"y\": [0.419595803827193, 0.41981306040240257, 0.42344033374385776, 0.42279178121785654, 0.41959580382718714, 0.41981306040239486, 0.42344033374385365, 0.422791781217878, 0.4195958038271926, 0.4198130604023987, 0.4234403337438534, 0.4227917812178706, 0.4195958038271894, 0.41981306040239647, 0.42344033374385615, 0.4227917812178706, 0.41959580382719075, 0.4198130604023969, 0.4234403337438652, 0.422791781217869, 0.4195958038271917, 0.4198130604023992, 0.42344033374386225, 0.42279178121786765, 0.4195958038271926, 0.4198130604023989, 0.42344033374386203, 0.4227917812178667, 0.4195958038271939, 0.419813060402398, 0.4234403337438641, 0.42279178121786537, 0.41959580382719075, 0.41981306040240823, 0.42344033374387086, 0.4227917812178656, 0.4195958038271962, 0.4198130604023967, 0.4234403337438632, 0.42279178121787236, 0.4195958038271903, 0.4198130604024003, 0.4234403337438763, 0.42279178121786604, 0.4195958038271901, 0.4198130604023905, 0.4234403337438983, 0.42279178121785876, 0.4195958038271894, 0.41981306040239375, 0.42344033374389534, 0.42279178121789707, 0.41959580382720074, 0.4198130604023865, 0.423440333743843, 0.4227917812178484, 0.4195958038271876, 0.4198130604024114, 0.42344033374388923, 0.4227917812178669, 0.41959580382718964, 0.4198130604023917, 0.47176935330283964, 0.430468225564313, 0.44088117397492715, 0.45465748146162566, 0.47176935330301906, 0.430468225564304, 0.440881173974902, 0.4546574814616114, 0.4717693533028437, 0.43046822556432546]}, {\"mode\": \"markers+lines\", \"name\": \"CANADA\", \"type\": \"scatter\", \"x\": [\"1950-01-01T00:00:00\", \"1951-01-01T00:00:00\", \"1952-01-01T00:00:00\", \"1953-01-01T00:00:00\", \"1954-01-01T00:00:00\", \"1955-01-01T00:00:00\", \"1956-01-01T00:00:00\", \"1957-01-01T00:00:00\", \"1958-01-01T00:00:00\", \"1959-01-01T00:00:00\", \"1960-01-01T00:00:00\", \"1961-01-01T00:00:00\", \"1962-01-01T00:00:00\", \"1963-01-01T00:00:00\", \"1964-01-01T00:00:00\", \"1965-01-01T00:00:00\", \"1966-01-01T00:00:00\", \"1967-01-01T00:00:00\", \"1968-01-01T00:00:00\", \"1969-01-01T00:00:00\", \"1970-01-01T00:00:00\", \"1971-01-01T00:00:00\", \"1972-01-01T00:00:00\", \"1973-01-01T00:00:00\", \"1974-01-01T00:00:00\", \"1975-01-01T00:00:00\", \"1976-01-01T00:00:00\", \"1977-01-01T00:00:00\", \"1978-01-01T00:00:00\", \"1979-01-01T00:00:00\", \"1980-01-01T00:00:00\", \"1981-01-01T00:00:00\", \"1982-01-01T00:00:00\", \"1983-01-01T00:00:00\", \"1984-01-01T00:00:00\", \"1985-01-01T00:00:00\", \"1986-01-01T00:00:00\", \"1987-01-01T00:00:00\", \"1988-01-01T00:00:00\", \"1989-01-01T00:00:00\", \"1990-01-01T00:00:00\", \"1991-01-01T00:00:00\", \"1992-01-01T00:00:00\", \"1993-01-01T00:00:00\", \"1994-01-01T00:00:00\", \"1995-01-01T00:00:00\", \"1996-01-01T00:00:00\", \"1997-01-01T00:00:00\", \"1998-01-01T00:00:00\", \"1999-01-01T00:00:00\", \"2000-01-01T00:00:00\", \"2001-01-01T00:00:00\", \"2002-01-01T00:00:00\", \"2003-01-01T00:00:00\", \"2004-01-01T00:00:00\", \"2005-01-01T00:00:00\", \"2006-01-01T00:00:00\", \"2007-01-01T00:00:00\", \"2008-01-01T00:00:00\", \"2009-01-01T00:00:00\", \"2010-01-01T00:00:00\", \"2011-01-01T00:00:00\", \"2011-12-31T00:00:00\", \"2012-12-31T00:00:00\", \"2013-12-31T00:00:00\", \"2014-12-31T00:00:00\", \"2015-12-31T00:00:00\", \"2016-12-31T00:00:00\", \"2017-12-31T00:00:00\", \"2018-12-31T00:00:00\", \"2019-12-31T00:00:00\", \"2020-12-31T00:00:00\"], \"y\": [0.493607224561371, 0.49376776001646105, 0.501126260975696, 0.5006450040134851, 0.4936072245613611, 0.49376776001645206, 0.5011262609756937, 0.5006450040135357, 0.4936072245613705, 0.4937677600164549, 0.501126260975695, 0.5006450040135098, 0.49360722456136435, 0.49376776001645395, 0.5011262609756969, 0.5006450040135111, 0.4936072245613677, 0.4937677600164549, 0.5011262609757121, 0.5006450040135088, 0.4936072245613701, 0.49376776001645584, 0.5011262609757069, 0.5006450040135021, 0.49360722456137335, 0.4937677600164573, 0.5011262609757069, 0.5006450040135021, 0.49360722456137573, 0.4937677600164568, 0.501126260975713, 0.5006450040135021, 0.4936072245613696, 0.4937677600164658, 0.501126260975723, 0.5006450040134983, 0.49360722456137907, 0.4937677600164483, 0.5011262609757121, 0.5006450040135187, 0.49360722456136913, 0.49376776001646155, 0.5011262609757315, 0.5006450040134927, 0.4936072245613696, 0.4937677600164549, 0.5011262609757642, 0.5006450040134808, 0.49360722456136297, 0.4937677600164549, 0.5011262609757751, 0.5006450040135916, 0.49360722456138945, 0.4937677600164341, 0.50112626097566, 0.5006450040134373, 0.4936072245613705, 0.49376776001646766, 0.501126260975751, 0.5006450040135098, 0.4936072245613682, 0.49376776001646056, 0.6020822129318069, 0.5156694824916978, 0.5373713065695265, 0.566192786496896, 0.6020822129321709, 0.5156694824916731, 0.5373713065694866, 0.5661927864968771, 0.6020822129318333, 0.5156694824917281]}, {\"mode\": \"markers+lines\", \"name\": \"MEXICO\", \"type\": \"scatter\", \"x\": [\"1950-01-01T00:00:00\", \"1951-01-01T00:00:00\", \"1952-01-01T00:00:00\", \"1953-01-01T00:00:00\", \"1954-01-01T00:00:00\", \"1955-01-01T00:00:00\", \"1956-01-01T00:00:00\", \"1957-01-01T00:00:00\", \"1958-01-01T00:00:00\", \"1959-01-01T00:00:00\", \"1960-01-01T00:00:00\", \"1961-01-01T00:00:00\", \"1962-01-01T00:00:00\", \"1963-01-01T00:00:00\", \"1964-01-01T00:00:00\", \"1965-01-01T00:00:00\", \"1966-01-01T00:00:00\", \"1967-01-01T00:00:00\", \"1968-01-01T00:00:00\", \"1969-01-01T00:00:00\", \"1970-01-01T00:00:00\", \"1971-01-01T00:00:00\", \"1972-01-01T00:00:00\", \"1973-01-01T00:00:00\", \"1974-01-01T00:00:00\", \"1975-01-01T00:00:00\", \"1976-01-01T00:00:00\", \"1977-01-01T00:00:00\", \"1978-01-01T00:00:00\", \"1979-01-01T00:00:00\", \"1980-01-01T00:00:00\", \"1981-01-01T00:00:00\", \"1982-01-01T00:00:00\", \"1983-01-01T00:00:00\", \"1984-01-01T00:00:00\", \"1985-01-01T00:00:00\", \"1986-01-01T00:00:00\", \"1987-01-01T00:00:00\", \"1988-01-01T00:00:00\", \"1989-01-01T00:00:00\", \"1990-01-01T00:00:00\", \"1991-01-01T00:00:00\", \"1992-01-01T00:00:00\", \"1993-01-01T00:00:00\", \"1994-01-01T00:00:00\", \"1995-01-01T00:00:00\", \"1996-01-01T00:00:00\", \"1997-01-01T00:00:00\", \"1998-01-01T00:00:00\", \"1999-01-01T00:00:00\", \"2000-01-01T00:00:00\", \"2001-01-01T00:00:00\", \"2002-01-01T00:00:00\", \"2003-01-01T00:00:00\", \"2004-01-01T00:00:00\", \"2005-01-01T00:00:00\", \"2006-01-01T00:00:00\", \"2007-01-01T00:00:00\", \"2008-01-01T00:00:00\", \"2009-01-01T00:00:00\", \"2010-01-01T00:00:00\", \"2011-01-01T00:00:00\", \"2011-12-31T00:00:00\", \"2012-12-31T00:00:00\", \"2013-12-31T00:00:00\", \"2014-12-31T00:00:00\", \"2015-12-31T00:00:00\", \"2016-12-31T00:00:00\", \"2017-12-31T00:00:00\", \"2018-12-31T00:00:00\", \"2019-12-31T00:00:00\", \"2020-12-31T00:00:00\"], \"y\": [0.43024811807504226, 0.43272247101721717, 0.4427486122987095, 0.43532427424654363, 0.4302481180750392, 0.4327224710172129, 0.4427486122987132, 0.4353242742465891, 0.43024811807504226, 0.4327224710172104, 0.4427486122987175, 0.43532427424655895, 0.43024811807504165, 0.4327224710172141, 0.4427486122987175, 0.4353242742465602, 0.43024811807504165, 0.4327224710172147, 0.4427486122987341, 0.43532427424655895, 0.43024811807504226, 0.43272247101721534, 0.4427486122987261, 0.43532427424655223, 0.4302481180750447, 0.4327224710172184, 0.4427486122987255, 0.43532427424655223, 0.4302481180750447, 0.4327224710172178, 0.4427486122987365, 0.4353242742465565, 0.4302481180750441, 0.43272247101722394, 0.44274861229874635, 0.4353242742465461, 0.4302481180750459, 0.43272247101719813, 0.4427486122987353, 0.4353242742465725, 0.4302481180750441, 0.43272247101722516, 0.4427486122987525, 0.4353242742465344, 0.4302481180750453, 0.4327224710172258, 0.44274861229878265, 0.4353242742465319, 0.4302481180750398, 0.4327224710172209, 0.4427486122988109, 0.4353242742466481, 0.43024811807504965, 0.4327224710171797, 0.44274861229865975, 0.4353242742464736, 0.43024811807505087, 0.4327224710172178, 0.4427486122987691, 0.4353242742465657, 0.4302481180750441, 0.432722471017243, 0.557924774599193, 0.460314323961176, 0.485393908521194, 0.5179482294775363, 0.5579247745995868, 0.4603143239611465, 0.48539390852115655, 0.5179482294775227, 0.5579247745992378, 0.4603143239612184]}],\n",
              "                        {\"template\": {\"data\": {\"bar\": [{\"error_x\": {\"color\": \"#2a3f5f\"}, \"error_y\": {\"color\": \"#2a3f5f\"}, \"marker\": {\"line\": {\"color\": \"#E5ECF6\", \"width\": 0.5}}, \"type\": \"bar\"}], \"barpolar\": [{\"marker\": {\"line\": {\"color\": \"#E5ECF6\", \"width\": 0.5}}, \"type\": \"barpolar\"}], \"carpet\": [{\"aaxis\": {\"endlinecolor\": \"#2a3f5f\", \"gridcolor\": \"white\", \"linecolor\": \"white\", \"minorgridcolor\": \"white\", \"startlinecolor\": \"#2a3f5f\"}, \"baxis\": {\"endlinecolor\": \"#2a3f5f\", \"gridcolor\": \"white\", \"linecolor\": \"white\", \"minorgridcolor\": \"white\", \"startlinecolor\": \"#2a3f5f\"}, \"type\": \"carpet\"}], \"choropleth\": [{\"colorbar\": {\"outlinewidth\": 0, \"ticks\": \"\"}, \"type\": \"choropleth\"}], \"contour\": [{\"colorbar\": {\"outlinewidth\": 0, \"ticks\": \"\"}, \"colorscale\": [[0.0, \"#0d0887\"], [0.1111111111111111, \"#46039f\"], [0.2222222222222222, \"#7201a8\"], [0.3333333333333333, \"#9c179e\"], [0.4444444444444444, \"#bd3786\"], [0.5555555555555556, \"#d8576b\"], [0.6666666666666666, \"#ed7953\"], [0.7777777777777778, \"#fb9f3a\"], [0.8888888888888888, \"#fdca26\"], [1.0, \"#f0f921\"]], \"type\": \"contour\"}], \"contourcarpet\": [{\"colorbar\": {\"outlinewidth\": 0, \"ticks\": \"\"}, \"type\": \"contourcarpet\"}], \"heatmap\": [{\"colorbar\": {\"outlinewidth\": 0, \"ticks\": \"\"}, \"colorscale\": [[0.0, \"#0d0887\"], [0.1111111111111111, \"#46039f\"], [0.2222222222222222, \"#7201a8\"], [0.3333333333333333, \"#9c179e\"], [0.4444444444444444, \"#bd3786\"], [0.5555555555555556, \"#d8576b\"], [0.6666666666666666, \"#ed7953\"], [0.7777777777777778, \"#fb9f3a\"], [0.8888888888888888, \"#fdca26\"], [1.0, \"#f0f921\"]], \"type\": \"heatmap\"}], \"heatmapgl\": [{\"colorbar\": {\"outlinewidth\": 0, \"ticks\": \"\"}, \"colorscale\": [[0.0, \"#0d0887\"], [0.1111111111111111, \"#46039f\"], [0.2222222222222222, \"#7201a8\"], [0.3333333333333333, \"#9c179e\"], [0.4444444444444444, \"#bd3786\"], [0.5555555555555556, \"#d8576b\"], [0.6666666666666666, \"#ed7953\"], [0.7777777777777778, \"#fb9f3a\"], [0.8888888888888888, \"#fdca26\"], [1.0, \"#f0f921\"]], \"type\": \"heatmapgl\"}], \"histogram\": [{\"marker\": {\"colorbar\": {\"outlinewidth\": 0, \"ticks\": \"\"}}, \"type\": \"histogram\"}], \"histogram2d\": [{\"colorbar\": {\"outlinewidth\": 0, \"ticks\": \"\"}, \"colorscale\": [[0.0, \"#0d0887\"], [0.1111111111111111, \"#46039f\"], [0.2222222222222222, \"#7201a8\"], [0.3333333333333333, \"#9c179e\"], [0.4444444444444444, \"#bd3786\"], [0.5555555555555556, \"#d8576b\"], [0.6666666666666666, \"#ed7953\"], [0.7777777777777778, \"#fb9f3a\"], [0.8888888888888888, \"#fdca26\"], [1.0, \"#f0f921\"]], \"type\": \"histogram2d\"}], \"histogram2dcontour\": [{\"colorbar\": {\"outlinewidth\": 0, \"ticks\": \"\"}, \"colorscale\": [[0.0, \"#0d0887\"], [0.1111111111111111, \"#46039f\"], [0.2222222222222222, \"#7201a8\"], [0.3333333333333333, \"#9c179e\"], [0.4444444444444444, \"#bd3786\"], [0.5555555555555556, \"#d8576b\"], [0.6666666666666666, \"#ed7953\"], [0.7777777777777778, \"#fb9f3a\"], [0.8888888888888888, \"#fdca26\"], [1.0, \"#f0f921\"]], \"type\": \"histogram2dcontour\"}], \"mesh3d\": [{\"colorbar\": {\"outlinewidth\": 0, \"ticks\": \"\"}, \"type\": \"mesh3d\"}], \"parcoords\": [{\"line\": {\"colorbar\": {\"outlinewidth\": 0, \"ticks\": \"\"}}, \"type\": \"parcoords\"}], \"pie\": [{\"automargin\": true, \"type\": \"pie\"}], \"scatter\": [{\"marker\": {\"colorbar\": {\"outlinewidth\": 0, \"ticks\": \"\"}}, \"type\": \"scatter\"}], \"scatter3d\": [{\"line\": {\"colorbar\": {\"outlinewidth\": 0, \"ticks\": \"\"}}, \"marker\": {\"colorbar\": {\"outlinewidth\": 0, \"ticks\": \"\"}}, \"type\": \"scatter3d\"}], \"scattercarpet\": [{\"marker\": {\"colorbar\": {\"outlinewidth\": 0, \"ticks\": \"\"}}, \"type\": \"scattercarpet\"}], \"scattergeo\": [{\"marker\": {\"colorbar\": {\"outlinewidth\": 0, \"ticks\": \"\"}}, \"type\": \"scattergeo\"}], \"scattergl\": [{\"marker\": {\"colorbar\": {\"outlinewidth\": 0, \"ticks\": \"\"}}, \"type\": \"scattergl\"}], \"scattermapbox\": [{\"marker\": {\"colorbar\": {\"outlinewidth\": 0, \"ticks\": \"\"}}, \"type\": \"scattermapbox\"}], \"scatterpolar\": [{\"marker\": {\"colorbar\": {\"outlinewidth\": 0, \"ticks\": \"\"}}, \"type\": \"scatterpolar\"}], \"scatterpolargl\": [{\"marker\": {\"colorbar\": {\"outlinewidth\": 0, \"ticks\": \"\"}}, \"type\": \"scatterpolargl\"}], \"scatterternary\": [{\"marker\": {\"colorbar\": {\"outlinewidth\": 0, \"ticks\": \"\"}}, \"type\": \"scatterternary\"}], \"surface\": [{\"colorbar\": {\"outlinewidth\": 0, \"ticks\": \"\"}, \"colorscale\": [[0.0, \"#0d0887\"], [0.1111111111111111, \"#46039f\"], [0.2222222222222222, \"#7201a8\"], [0.3333333333333333, \"#9c179e\"], [0.4444444444444444, \"#bd3786\"], [0.5555555555555556, \"#d8576b\"], [0.6666666666666666, \"#ed7953\"], [0.7777777777777778, \"#fb9f3a\"], [0.8888888888888888, \"#fdca26\"], [1.0, \"#f0f921\"]], \"type\": \"surface\"}], \"table\": [{\"cells\": {\"fill\": {\"color\": \"#EBF0F8\"}, \"line\": {\"color\": \"white\"}}, \"header\": {\"fill\": {\"color\": \"#C8D4E3\"}, \"line\": {\"color\": \"white\"}}, \"type\": \"table\"}]}, \"layout\": {\"annotationdefaults\": {\"arrowcolor\": \"#2a3f5f\", \"arrowhead\": 0, \"arrowwidth\": 1}, \"coloraxis\": {\"colorbar\": {\"outlinewidth\": 0, \"ticks\": \"\"}}, \"colorscale\": {\"diverging\": [[0, \"#8e0152\"], [0.1, \"#c51b7d\"], [0.2, \"#de77ae\"], [0.3, \"#f1b6da\"], [0.4, \"#fde0ef\"], [0.5, \"#f7f7f7\"], [0.6, \"#e6f5d0\"], [0.7, \"#b8e186\"], [0.8, \"#7fbc41\"], [0.9, \"#4d9221\"], [1, \"#276419\"]], \"sequential\": [[0.0, \"#0d0887\"], [0.1111111111111111, \"#46039f\"], [0.2222222222222222, \"#7201a8\"], [0.3333333333333333, \"#9c179e\"], [0.4444444444444444, \"#bd3786\"], [0.5555555555555556, \"#d8576b\"], [0.6666666666666666, \"#ed7953\"], [0.7777777777777778, \"#fb9f3a\"], [0.8888888888888888, \"#fdca26\"], [1.0, \"#f0f921\"]], \"sequentialminus\": [[0.0, \"#0d0887\"], [0.1111111111111111, \"#46039f\"], [0.2222222222222222, \"#7201a8\"], [0.3333333333333333, \"#9c179e\"], [0.4444444444444444, \"#bd3786\"], [0.5555555555555556, \"#d8576b\"], [0.6666666666666666, \"#ed7953\"], [0.7777777777777778, \"#fb9f3a\"], [0.8888888888888888, \"#fdca26\"], [1.0, \"#f0f921\"]]}, \"colorway\": [\"#636efa\", \"#EF553B\", \"#00cc96\", \"#ab63fa\", \"#FFA15A\", \"#19d3f3\", \"#FF6692\", \"#B6E880\", \"#FF97FF\", \"#FECB52\"], \"font\": {\"color\": \"#2a3f5f\"}, \"geo\": {\"bgcolor\": \"white\", \"lakecolor\": \"white\", \"landcolor\": \"#E5ECF6\", \"showlakes\": true, \"showland\": true, \"subunitcolor\": \"white\"}, \"hoverlabel\": {\"align\": \"left\"}, \"hovermode\": \"closest\", \"mapbox\": {\"style\": \"light\"}, \"paper_bgcolor\": \"white\", \"plot_bgcolor\": \"#E5ECF6\", \"polar\": {\"angularaxis\": {\"gridcolor\": \"white\", \"linecolor\": \"white\", \"ticks\": \"\"}, \"bgcolor\": \"#E5ECF6\", \"radialaxis\": {\"gridcolor\": \"white\", \"linecolor\": \"white\", \"ticks\": \"\"}}, \"scene\": {\"xaxis\": {\"backgroundcolor\": \"#E5ECF6\", \"gridcolor\": \"white\", \"gridwidth\": 2, \"linecolor\": \"white\", \"showbackground\": true, \"ticks\": \"\", \"zerolinecolor\": \"white\"}, \"yaxis\": {\"backgroundcolor\": \"#E5ECF6\", \"gridcolor\": \"white\", \"gridwidth\": 2, \"linecolor\": \"white\", \"showbackground\": true, \"ticks\": \"\", \"zerolinecolor\": \"white\"}, \"zaxis\": {\"backgroundcolor\": \"#E5ECF6\", \"gridcolor\": \"white\", \"gridwidth\": 2, \"linecolor\": \"white\", \"showbackground\": true, \"ticks\": \"\", \"zerolinecolor\": \"white\"}}, \"shapedefaults\": {\"line\": {\"color\": \"#2a3f5f\"}}, \"ternary\": {\"aaxis\": {\"gridcolor\": \"white\", \"linecolor\": \"white\", \"ticks\": \"\"}, \"baxis\": {\"gridcolor\": \"white\", \"linecolor\": \"white\", \"ticks\": \"\"}, \"bgcolor\": \"#E5ECF6\", \"caxis\": {\"gridcolor\": \"white\", \"linecolor\": \"white\", \"ticks\": \"\"}}, \"title\": {\"x\": 0.05}, \"xaxis\": {\"automargin\": true, \"gridcolor\": \"white\", \"linecolor\": \"white\", \"ticks\": \"\", \"title\": {\"standoff\": 15}, \"zerolinecolor\": \"white\", \"zerolinewidth\": 2}, \"yaxis\": {\"automargin\": true, \"gridcolor\": \"white\", \"linecolor\": \"white\", \"ticks\": \"\", \"title\": {\"standoff\": 15}, \"zerolinecolor\": \"white\", \"zerolinewidth\": 2}}}, \"title\": {\"text\": \"seasonality\"}},\n",
              "                        {\"responsive\": true}\n",
              "                    ).then(function(){\n",
              "                            \n",
              "var gd = document.getElementById('039c2494-56ad-490c-97cd-300fb0c7dace');\n",
              "var x = new MutationObserver(function (mutations, observer) {{\n",
              "        var display = window.getComputedStyle(gd).display;\n",
              "        if (!display || display === 'none') {{\n",
              "            console.log([gd, 'removed!']);\n",
              "            Plotly.purge(gd);\n",
              "            observer.disconnect();\n",
              "        }}\n",
              "}});\n",
              "\n",
              "// Listen for the removal of the full notebook cells\n",
              "var notebookContainer = gd.closest('#notebook-container');\n",
              "if (notebookContainer) {{\n",
              "    x.observe(notebookContainer, {childList: true});\n",
              "}}\n",
              "\n",
              "// Listen for the clearing of the current output cell\n",
              "var outputEl = gd.closest('.output');\n",
              "if (outputEl) {{\n",
              "    x.observe(outputEl, {childList: true});\n",
              "}}\n",
              "\n",
              "                        })\n",
              "                };\n",
              "                \n",
              "            </script>\n",
              "        </div>\n",
              "</body>\n",
              "</html>"
            ]
          },
          "metadata": {
            "tags": []
          }
        }
      ]
    },
    {
      "cell_type": "markdown",
      "metadata": {
        "id": "E2RvjgIeTLJU"
      },
      "source": [
        "Depois de analisar o dataset as features que existem também para incrementar o modelo podemos destacar algumas\r\n",
        "\r\n",
        "*    População (total da população) variavel **pop**\r\n",
        "*    Emprego (Porcentagem de pessoas que trabalham) variavel **emp**\r\n",
        "*    PIB (Produto interno Bruto) que podemos entender pela variavel **labsh ** pois seria o PIB por participação na força de trabalho\r\n",
        "\r\n",
        "Com o numero da polulação vs Empregabilidade podemos ver a capacidade total de individuos para contribuir na produtividade\r\n",
        "Com o PIB por produção podemos ver o desempenho da força de trabalho para elevar o PIB \r\n"
      ]
    }
  ]
}